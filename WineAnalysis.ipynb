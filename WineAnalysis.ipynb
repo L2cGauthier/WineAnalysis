{
 "cells": [
  {
   "cell_type": "markdown",
   "metadata": {},
   "source": [
    "# Imports"
   ]
  },
  {
   "cell_type": "code",
   "execution_count": 1,
   "metadata": {},
   "outputs": [],
   "source": [
    "#Easy data manipulation\n",
    "import pandas as pd\n",
    "import numpy as np\n",
    "\n",
    "#Plotting\n",
    "import seaborn as sns\n",
    "sns.set()\n",
    "import matplotlib.pyplot as plt\n",
    "\n",
    "#Who likes warnings anyway?\n",
    "import warnings\n",
    "warnings.filterwarnings('ignore')\n",
    "\n",
    "#Automated hyperparameter tuning\n",
    "from tpot import TPOTClassifier\n",
    "\n",
    "#Fill missing values\n",
    "from sklearn.impute import SimpleImputer\n",
    "\n",
    "#Pre-processing, tuning of parameters and scoring tools\n",
    "from sklearn.model_selection import GridSearchCV, cross_val_score, train_test_split, KFold\n",
    "from sklearn.preprocessing import StandardScaler\n",
    "\n",
    "#Text Mining\n",
    "from sklearn.feature_extraction import stop_words\n",
    "from sklearn.feature_extraction.text import CountVectorizer, TfidfTransformer\n",
    "from sklearn.decomposition import TruncatedSVD\n",
    "from sklearn.feature_extraction import text #Allow stop_words customization\n",
    "\n",
    "#ML models\n",
    "from sklearn.tree import DecisionTreeClassifier\n",
    "from sklearn.naive_bayes import MultinomialNB\n",
    "from sklearn.linear_model import PassiveAggressiveClassifier\n",
    "from sklearn.neighbors import KNeighborsClassifier\n",
    "from sklearn.ensemble import RandomForestClassifier\n",
    "\n",
    "#Not sure if required to import for sklearn models n_jobs=-1 and for Tpot approach\n",
    "import joblib\n",
    "import xgboost\n",
    "\n",
    "#Used to keep track of progress during long operations\n",
    "from IPython.display import clear_output"
   ]
  },
  {
   "cell_type": "markdown",
   "metadata": {},
   "source": [
    "# First look at the data set"
   ]
  },
  {
   "cell_type": "code",
   "execution_count": 2,
   "metadata": {},
   "outputs": [],
   "source": [
    "df = pd.read_csv('winemag-data-130k-v2.csv')"
   ]
  },
  {
   "cell_type": "code",
   "execution_count": 3,
   "metadata": {},
   "outputs": [
    {
     "data": {
      "text/html": [
       "<div>\n",
       "<style scoped>\n",
       "    .dataframe tbody tr th:only-of-type {\n",
       "        vertical-align: middle;\n",
       "    }\n",
       "\n",
       "    .dataframe tbody tr th {\n",
       "        vertical-align: top;\n",
       "    }\n",
       "\n",
       "    .dataframe thead th {\n",
       "        text-align: right;\n",
       "    }\n",
       "</style>\n",
       "<table border=\"1\" class=\"dataframe\">\n",
       "  <thead>\n",
       "    <tr style=\"text-align: right;\">\n",
       "      <th></th>\n",
       "      <th>Unnamed: 0</th>\n",
       "      <th>country</th>\n",
       "      <th>description</th>\n",
       "      <th>designation</th>\n",
       "      <th>points</th>\n",
       "      <th>price</th>\n",
       "      <th>province</th>\n",
       "      <th>region_1</th>\n",
       "      <th>region_2</th>\n",
       "      <th>taster_name</th>\n",
       "      <th>taster_twitter_handle</th>\n",
       "      <th>title</th>\n",
       "      <th>variety</th>\n",
       "      <th>winery</th>\n",
       "    </tr>\n",
       "  </thead>\n",
       "  <tbody>\n",
       "    <tr>\n",
       "      <th>0</th>\n",
       "      <td>0</td>\n",
       "      <td>Italy</td>\n",
       "      <td>Aromas include tropical fruit, broom, brimston...</td>\n",
       "      <td>Vulkà Bianco</td>\n",
       "      <td>87</td>\n",
       "      <td>NaN</td>\n",
       "      <td>Sicily &amp; Sardinia</td>\n",
       "      <td>Etna</td>\n",
       "      <td>NaN</td>\n",
       "      <td>Kerin O’Keefe</td>\n",
       "      <td>@kerinokeefe</td>\n",
       "      <td>Nicosia 2013 Vulkà Bianco  (Etna)</td>\n",
       "      <td>White Blend</td>\n",
       "      <td>Nicosia</td>\n",
       "    </tr>\n",
       "    <tr>\n",
       "      <th>1</th>\n",
       "      <td>1</td>\n",
       "      <td>Portugal</td>\n",
       "      <td>This is ripe and fruity, a wine that is smooth...</td>\n",
       "      <td>Avidagos</td>\n",
       "      <td>87</td>\n",
       "      <td>15.0</td>\n",
       "      <td>Douro</td>\n",
       "      <td>NaN</td>\n",
       "      <td>NaN</td>\n",
       "      <td>Roger Voss</td>\n",
       "      <td>@vossroger</td>\n",
       "      <td>Quinta dos Avidagos 2011 Avidagos Red (Douro)</td>\n",
       "      <td>Portuguese Red</td>\n",
       "      <td>Quinta dos Avidagos</td>\n",
       "    </tr>\n",
       "    <tr>\n",
       "      <th>2</th>\n",
       "      <td>2</td>\n",
       "      <td>US</td>\n",
       "      <td>Tart and snappy, the flavors of lime flesh and...</td>\n",
       "      <td>NaN</td>\n",
       "      <td>87</td>\n",
       "      <td>14.0</td>\n",
       "      <td>Oregon</td>\n",
       "      <td>Willamette Valley</td>\n",
       "      <td>Willamette Valley</td>\n",
       "      <td>Paul Gregutt</td>\n",
       "      <td>@paulgwine</td>\n",
       "      <td>Rainstorm 2013 Pinot Gris (Willamette Valley)</td>\n",
       "      <td>Pinot Gris</td>\n",
       "      <td>Rainstorm</td>\n",
       "    </tr>\n",
       "    <tr>\n",
       "      <th>3</th>\n",
       "      <td>3</td>\n",
       "      <td>US</td>\n",
       "      <td>Pineapple rind, lemon pith and orange blossom ...</td>\n",
       "      <td>Reserve Late Harvest</td>\n",
       "      <td>87</td>\n",
       "      <td>13.0</td>\n",
       "      <td>Michigan</td>\n",
       "      <td>Lake Michigan Shore</td>\n",
       "      <td>NaN</td>\n",
       "      <td>Alexander Peartree</td>\n",
       "      <td>NaN</td>\n",
       "      <td>St. Julian 2013 Reserve Late Harvest Riesling ...</td>\n",
       "      <td>Riesling</td>\n",
       "      <td>St. Julian</td>\n",
       "    </tr>\n",
       "    <tr>\n",
       "      <th>4</th>\n",
       "      <td>4</td>\n",
       "      <td>US</td>\n",
       "      <td>Much like the regular bottling from 2012, this...</td>\n",
       "      <td>Vintner's Reserve Wild Child Block</td>\n",
       "      <td>87</td>\n",
       "      <td>65.0</td>\n",
       "      <td>Oregon</td>\n",
       "      <td>Willamette Valley</td>\n",
       "      <td>Willamette Valley</td>\n",
       "      <td>Paul Gregutt</td>\n",
       "      <td>@paulgwine</td>\n",
       "      <td>Sweet Cheeks 2012 Vintner's Reserve Wild Child...</td>\n",
       "      <td>Pinot Noir</td>\n",
       "      <td>Sweet Cheeks</td>\n",
       "    </tr>\n",
       "  </tbody>\n",
       "</table>\n",
       "</div>"
      ],
      "text/plain": [
       "   Unnamed: 0   country                                        description  \\\n",
       "0           0     Italy  Aromas include tropical fruit, broom, brimston...   \n",
       "1           1  Portugal  This is ripe and fruity, a wine that is smooth...   \n",
       "2           2        US  Tart and snappy, the flavors of lime flesh and...   \n",
       "3           3        US  Pineapple rind, lemon pith and orange blossom ...   \n",
       "4           4        US  Much like the regular bottling from 2012, this...   \n",
       "\n",
       "                          designation  points  price           province  \\\n",
       "0                        Vulkà Bianco      87    NaN  Sicily & Sardinia   \n",
       "1                            Avidagos      87   15.0              Douro   \n",
       "2                                 NaN      87   14.0             Oregon   \n",
       "3                Reserve Late Harvest      87   13.0           Michigan   \n",
       "4  Vintner's Reserve Wild Child Block      87   65.0             Oregon   \n",
       "\n",
       "              region_1           region_2         taster_name  \\\n",
       "0                 Etna                NaN       Kerin O’Keefe   \n",
       "1                  NaN                NaN          Roger Voss   \n",
       "2    Willamette Valley  Willamette Valley        Paul Gregutt   \n",
       "3  Lake Michigan Shore                NaN  Alexander Peartree   \n",
       "4    Willamette Valley  Willamette Valley        Paul Gregutt   \n",
       "\n",
       "  taster_twitter_handle                                              title  \\\n",
       "0          @kerinokeefe                  Nicosia 2013 Vulkà Bianco  (Etna)   \n",
       "1            @vossroger      Quinta dos Avidagos 2011 Avidagos Red (Douro)   \n",
       "2           @paulgwine       Rainstorm 2013 Pinot Gris (Willamette Valley)   \n",
       "3                   NaN  St. Julian 2013 Reserve Late Harvest Riesling ...   \n",
       "4           @paulgwine   Sweet Cheeks 2012 Vintner's Reserve Wild Child...   \n",
       "\n",
       "          variety               winery  \n",
       "0     White Blend              Nicosia  \n",
       "1  Portuguese Red  Quinta dos Avidagos  \n",
       "2      Pinot Gris            Rainstorm  \n",
       "3        Riesling           St. Julian  \n",
       "4      Pinot Noir         Sweet Cheeks  "
      ]
     },
     "execution_count": 3,
     "metadata": {},
     "output_type": "execute_result"
    }
   ],
   "source": [
    "df.head(5)"
   ]
  },
  {
   "cell_type": "code",
   "execution_count": 4,
   "metadata": {},
   "outputs": [
    {
     "data": {
      "text/plain": [
       "(129971, 14)"
      ]
     },
     "execution_count": 4,
     "metadata": {},
     "output_type": "execute_result"
    }
   ],
   "source": [
    "df.shape"
   ]
  },
  {
   "cell_type": "code",
   "execution_count": 5,
   "metadata": {},
   "outputs": [
    {
     "data": {
      "text/html": [
       "<div>\n",
       "<style scoped>\n",
       "    .dataframe tbody tr th:only-of-type {\n",
       "        vertical-align: middle;\n",
       "    }\n",
       "\n",
       "    .dataframe tbody tr th {\n",
       "        vertical-align: top;\n",
       "    }\n",
       "\n",
       "    .dataframe thead th {\n",
       "        text-align: right;\n",
       "    }\n",
       "</style>\n",
       "<table border=\"1\" class=\"dataframe\">\n",
       "  <thead>\n",
       "    <tr style=\"text-align: right;\">\n",
       "      <th></th>\n",
       "      <th>Unnamed: 0</th>\n",
       "      <th>points</th>\n",
       "      <th>price</th>\n",
       "    </tr>\n",
       "  </thead>\n",
       "  <tbody>\n",
       "    <tr>\n",
       "      <th>count</th>\n",
       "      <td>129971.000000</td>\n",
       "      <td>129971.000000</td>\n",
       "      <td>120975.000000</td>\n",
       "    </tr>\n",
       "    <tr>\n",
       "      <th>mean</th>\n",
       "      <td>64985.000000</td>\n",
       "      <td>88.447138</td>\n",
       "      <td>35.363389</td>\n",
       "    </tr>\n",
       "    <tr>\n",
       "      <th>std</th>\n",
       "      <td>37519.540256</td>\n",
       "      <td>3.039730</td>\n",
       "      <td>41.022218</td>\n",
       "    </tr>\n",
       "    <tr>\n",
       "      <th>min</th>\n",
       "      <td>0.000000</td>\n",
       "      <td>80.000000</td>\n",
       "      <td>4.000000</td>\n",
       "    </tr>\n",
       "    <tr>\n",
       "      <th>25%</th>\n",
       "      <td>32492.500000</td>\n",
       "      <td>86.000000</td>\n",
       "      <td>17.000000</td>\n",
       "    </tr>\n",
       "    <tr>\n",
       "      <th>50%</th>\n",
       "      <td>64985.000000</td>\n",
       "      <td>88.000000</td>\n",
       "      <td>25.000000</td>\n",
       "    </tr>\n",
       "    <tr>\n",
       "      <th>75%</th>\n",
       "      <td>97477.500000</td>\n",
       "      <td>91.000000</td>\n",
       "      <td>42.000000</td>\n",
       "    </tr>\n",
       "    <tr>\n",
       "      <th>max</th>\n",
       "      <td>129970.000000</td>\n",
       "      <td>100.000000</td>\n",
       "      <td>3300.000000</td>\n",
       "    </tr>\n",
       "  </tbody>\n",
       "</table>\n",
       "</div>"
      ],
      "text/plain": [
       "          Unnamed: 0         points          price\n",
       "count  129971.000000  129971.000000  120975.000000\n",
       "mean    64985.000000      88.447138      35.363389\n",
       "std     37519.540256       3.039730      41.022218\n",
       "min         0.000000      80.000000       4.000000\n",
       "25%     32492.500000      86.000000      17.000000\n",
       "50%     64985.000000      88.000000      25.000000\n",
       "75%     97477.500000      91.000000      42.000000\n",
       "max    129970.000000     100.000000    3300.000000"
      ]
     },
     "execution_count": 5,
     "metadata": {},
     "output_type": "execute_result"
    }
   ],
   "source": [
    "df.describe()"
   ]
  },
  {
   "cell_type": "code",
   "execution_count": 6,
   "metadata": {},
   "outputs": [
    {
     "name": "stdout",
     "output_type": "stream",
     "text": [
      "<class 'pandas.core.frame.DataFrame'>\n",
      "RangeIndex: 129971 entries, 0 to 129970\n",
      "Data columns (total 14 columns):\n",
      "Unnamed: 0               129971 non-null int64\n",
      "country                  129908 non-null object\n",
      "description              129971 non-null object\n",
      "designation              92506 non-null object\n",
      "points                   129971 non-null int64\n",
      "price                    120975 non-null float64\n",
      "province                 129908 non-null object\n",
      "region_1                 108724 non-null object\n",
      "region_2                 50511 non-null object\n",
      "taster_name              103727 non-null object\n",
      "taster_twitter_handle    98758 non-null object\n",
      "title                    129971 non-null object\n",
      "variety                  129970 non-null object\n",
      "winery                   129971 non-null object\n",
      "dtypes: float64(1), int64(2), object(11)\n",
      "memory usage: 13.9+ MB\n"
     ]
    }
   ],
   "source": [
    "df.info()"
   ]
  },
  {
   "cell_type": "markdown",
   "metadata": {},
   "source": [
    "There are a lot of missing values, we will drop rows where point or price are missing. Other missing values will be handeld depending on the specific cases."
   ]
  },
  {
   "cell_type": "code",
   "execution_count": 7,
   "metadata": {},
   "outputs": [
    {
     "data": {
      "text/plain": [
       "(120975, 14)"
      ]
     },
     "execution_count": 7,
     "metadata": {},
     "output_type": "execute_result"
    }
   ],
   "source": [
    "df.dropna(axis=0, how='any', thresh=None, subset=['points', 'price'], inplace=True)\n",
    "df.shape"
   ]
  },
  {
   "cell_type": "markdown",
   "metadata": {},
   "source": [
    "We dropped around 9k rows with missing values in either the points or price features."
   ]
  },
  {
   "cell_type": "markdown",
   "metadata": {},
   "source": [
    "# Basic representation of the data set"
   ]
  },
  {
   "cell_type": "markdown",
   "metadata": {},
   "source": [
    "Scatter plot of the wine's price with respect to its score, and their respective marginal density."
   ]
  },
  {
   "cell_type": "code",
   "execution_count": 8,
   "metadata": {},
   "outputs": [
    {
     "data": {
      "text/plain": [
       "<seaborn.axisgrid.JointGrid at 0x1d30002bb38>"
      ]
     },
     "execution_count": 8,
     "metadata": {},
     "output_type": "execute_result"
    },
    {
     "data": {
      "image/png": "[encoded data removed]",
      "text/plain": [
       "<Figure size 432x432 with 3 Axes>"
      ]
     },
     "metadata": {
      "needs_background": "light"
     },
     "output_type": "display_data"
    }
   ],
   "source": [
    "sns.jointplot(x=\"points\", y=\"price\", data=df, )"
   ]
  },
  {
   "cell_type": "markdown",
   "metadata": {},
   "source": [
    "Box plot of the points feature. Scores range from 80 to 100."
   ]
  },
  {
   "cell_type": "code",
   "execution_count": 9,
   "metadata": {},
   "outputs": [
    {
     "data": {
      "text/plain": [
       "<matplotlib.axes._subplots.AxesSubplot at 0x1d302a15a90>"
      ]
     },
     "execution_count": 9,
     "metadata": {},
     "output_type": "execute_result"
    },
    {
     "data": {
      "image/png": "[encoded data removed]",
      "text/plain": [
       "<Figure size 432x288 with 1 Axes>"
      ]
     },
     "metadata": {
      "needs_background": "light"
     },
     "output_type": "display_data"
    }
   ],
   "source": [
    "sns.boxplot(x=[\"points\"], data=df)"
   ]
  },
  {
   "cell_type": "markdown",
   "metadata": {},
   "source": [
    "We plot the same thing for the price feature. This time, for readability, we have to use a log scale. Where the wine score is bounded and has very few outliers, the price feature has an important range, numerous outliers with wines wort thousands of euros."
   ]
  },
  {
   "cell_type": "code",
   "execution_count": 10,
   "metadata": {},
   "outputs": [
    {
     "data": {
      "image/png": "[encoded data removed]",
      "text/plain": [
       "<Figure size 432x288 with 1 Axes>"
      ]
     },
     "metadata": {
      "needs_background": "light"
     },
     "output_type": "display_data"
    }
   ],
   "source": [
    "priceBoxPlot = sns.boxplot(x=[\"price\"], data=df)\n",
    "priceBoxPlot.figure.get_axes()[0].set_xscale('log')"
   ]
  },
  {
   "cell_type": "markdown",
   "metadata": {},
   "source": [
    "Now, let's take a look at the correlation between price and score. We can expect it to be highly correlated as expensive wine should be better. Of course, the first scatter plot tends to show that it's not that obvious already."
   ]
  },
  {
   "cell_type": "code",
   "execution_count": 11,
   "metadata": {},
   "outputs": [
    {
     "data": {
      "text/plain": [
       "array([[1.        , 0.41616674],\n",
       "       [0.41616674, 1.        ]])"
      ]
     },
     "execution_count": 11,
     "metadata": {},
     "output_type": "execute_result"
    }
   ],
   "source": [
    "np.corrcoef(df[\"price\"], df[\"points\"])"
   ]
  },
  {
   "cell_type": "markdown",
   "metadata": {},
   "source": [
    "The correlation between price and score is positive, albeit weaker than expected."
   ]
  },
  {
   "cell_type": "markdown",
   "metadata": {},
   "source": [
    "# Text mining: can we predict the score of a wine based on the review ?"
   ]
  },
  {
   "cell_type": "markdown",
   "metadata": {},
   "source": [
    "First, let's put our text reviews in the corpus variable, and the variable we want to predict, the wine's score in Y. Then, we discretize the wine's score into 4 categories to make it a classification problem."
   ]
  },
  {
   "cell_type": "code",
   "execution_count": 18,
   "metadata": {},
   "outputs": [
    {
     "data": {
      "text/plain": [
       "array([1, 1, 1, ..., 2, 2, 2])"
      ]
     },
     "execution_count": 18,
     "metadata": {},
     "output_type": "execute_result"
    }
   ],
   "source": [
    "corpus = df[\"description\"].values\n",
    "Y = df[\"points\"].values\n",
    "\n",
    "#Discretization\n",
    "Y[Y<85]=0\n",
    "Y[np.logical_and(Y>3, Y<90)]=1\n",
    "Y[np.logical_and(Y>3, Y<95)]=2\n",
    "Y[np.logical_and(Y>3, Y<=100)]=3\n",
    "\n",
    "#Re-type Y as int\n",
    "Y=Y.astype(int)"
   ]
  },
  {
   "cell_type": "markdown",
   "metadata": {},
   "source": [
    "### Bag of Words using CountVectorizer"
   ]
  },
  {
   "cell_type": "code",
   "execution_count": 13,
   "metadata": {},
   "outputs": [],
   "source": [
    "#Customize stop words after having a first look at the most frequent words\n",
    "customStopWords = text.ENGLISH_STOP_WORDS.union(['wine', '2015','2016', '2017', '2018', '2019', '2020', '100', '10', '20'])\n",
    "\n",
    "CV = CountVectorizer(stop_words=customStopWords, max_features=400)\n",
    "\n",
    "X = CV.fit_transform(corpus) #Let's be careful here, X is a sparse Matrix\n",
    "\n",
    "#CV.vocabulary_ #This show the 400 most frequent words selected (excluding stop_words)"
   ]
  },
  {
   "cell_type": "markdown",
   "metadata": {},
   "source": [
    "### TFIDF (Term Frequency–Inverse Document Frequency)"
   ]
  },
  {
   "cell_type": "code",
   "execution_count": 14,
   "metadata": {},
   "outputs": [],
   "source": [
    "TFIDF = TfidfTransformer()\n",
    "X_TFIDF = TFIDF.fit_transform(X)"
   ]
  },
  {
   "cell_type": "markdown",
   "metadata": {},
   "source": [
    "### Truncated SVD: an attempt at dimension reduction"
   ]
  },
  {
   "cell_type": "code",
   "execution_count": 15,
   "metadata": {},
   "outputs": [
    {
     "name": "stdout",
     "output_type": "stream",
     "text": [
      "Current progress: 100.00%\n"
     ]
    }
   ],
   "source": [
    "n_components = 399\n",
    "\n",
    "Y_rep = [0] #Will stock the cumulative explained variance ratio of the SVD, for each n_components\n",
    "\n",
    "#Actual SVD\n",
    "SVD = TruncatedSVD(n_components = n_components) \n",
    "X_SVD = SVD.fit_transform(X_TFIDF)\n",
    "var = SVD.explained_variance_ratio_\n",
    "\n",
    "#This will help us decide on the final number of components we want to keep \n",
    "for x in range(n_components): \n",
    "    clear_output(wait=True)\n",
    "    \n",
    "    Y_rep.append(Y_rep[-1]+var[x])\n",
    "    \n",
    "    print(\"Current progress: {0:.2f}%\".format(x/(n_components-1)*100))\n",
    "    \n"
   ]
  },
  {
   "cell_type": "code",
   "execution_count": 16,
   "metadata": {},
   "outputs": [
    {
     "data": {
      "image/png": "[encoded data removed]",
      "text/plain": [
       "<Figure size 432x288 with 1 Axes>"
      ]
     },
     "metadata": {
      "needs_background": "light"
     },
     "output_type": "display_data"
    }
   ],
   "source": [
    "plt.plot(Y_rep)\n",
    "plt.plot(var*54)\n",
    "\n",
    "plt.title(\"Explained variance ratio, and information gain w.r.t the number of components kept for SVD\")\n",
    "plt.legend(['Explained variance ratio', 'Information gain (scaled)'], loc='best')\n",
    "\n",
    "plt.show()"
   ]
  },
  {
   "cell_type": "markdown",
   "metadata": {},
   "source": [
    "In order to reduce the number of features, we can use Truncated SVD to form linear combination of features minimizing the loss of information. Although here, even if we try to keep 200 features, we would loose more than 30% of the information.\n",
    "\n",
    "It indicates that the words we kept in the CountVectorizer can not be gathered to form more abstract concepts without losing a lot of information. Truncated SVD might not be a good option here, we will try to use classifiers on X_TFIDF. We'll come back to truncated SVD if the calculations are too long."
   ]
  },
  {
   "cell_type": "markdown",
   "metadata": {},
   "source": [
    "### A first simple approach"
   ]
  },
  {
   "cell_type": "code",
   "execution_count": 21,
   "metadata": {},
   "outputs": [
    {
     "name": "stdout",
     "output_type": "stream",
     "text": [
      "Fitting...\n",
      "Wall time: 16 ms\n",
      "\n",
      "Predicting...\n",
      "Wall time: 2min 58s\n",
      "\n",
      "Reporting...\n",
      "\n",
      "              precision    recall  f1-score   support\n",
      "\n",
      "           0       0.51      0.32      0.40      3605\n",
      "           1       0.57      0.92      0.71     19075\n",
      "           2       0.75      0.21      0.32     12953\n",
      "           3       0.50      0.01      0.01       660\n",
      "\n",
      "   micro avg       0.59      0.59      0.59     36293\n",
      "   macro avg       0.58      0.36      0.36     36293\n",
      "weighted avg       0.63      0.59      0.53     36293\n",
      " \n",
      "\n",
      "[[ 1163  2414    28     0]\n",
      " [  950 17465   660     0]\n",
      " [  158 10120  2671     4]\n",
      " [    2   437   217     4]] \n",
      "\n",
      "Cohen's Kappa score :  0.20241102621928575 \n",
      "\n"
     ]
    }
   ],
   "source": [
    "#from sklearn.tree import DecisionTreeClassifier\n",
    "#from sklearn.naive_bayes import MultinomialNB\n",
    "#from sklearn.linear_model import PassiveAggressiveClassifier\n",
    "#from sklearn.neighbors import KNeighborsClassifier\n",
    "#from sklearn.ensemble import RandomForestClassifier\n",
    "\n",
    "from sklearn.metrics import auc, cohen_kappa_score, confusion_matrix, roc_curve, classification_report\n",
    "\n",
    "X_train, X_test, y_train, y_test = train_test_split(X_TFIDF, Y,test_size=0.3, shuffle=True, random_state=95)\n",
    "\n",
    "#FIRST TRY WITHOUT SVD \n",
    "knn = KNeighborsClassifier(n_neighbors=10)\n",
    "print(\"Fitting...\")\n",
    "%time knn.fit(X_train, y_train)\n",
    "print(\"\\nPredicting...\")\n",
    "%time y_predicted = knn.predict(X_test)\n",
    "print(\"\\nReporting...\\n\")\n",
    "print(classification_report(y_test, y_predicted),\"\\n\")\n",
    "print(confusion_matrix(y_test, y_predicted),\"\\n\")\n",
    "print(\"Cohen's Kappa score : \",cohen_kappa_score(y_test, y_predicted),\"\\n\")\n",
    "\n",
    "\n"
   ]
  },
  {
   "cell_type": "code",
   "execution_count": 24,
   "metadata": {},
   "outputs": [
    {
     "name": "stdout",
     "output_type": "stream",
     "text": [
      "Fitting...\n",
      "Wall time: 4min 40s\n",
      "\n",
      "Predicting...\n",
      "Wall time: 1.91 s\n",
      "\n",
      "Reporting...\n",
      "\n",
      "              precision    recall  f1-score   support\n",
      "\n",
      "           0       0.77      0.30      0.43      3605\n",
      "           1       0.71      0.87      0.78     19075\n",
      "           2       0.75      0.66      0.71     12953\n",
      "           3       1.00      0.01      0.02       660\n",
      "\n",
      "   micro avg       0.72      0.72      0.72     36293\n",
      "   macro avg       0.81      0.46      0.48     36293\n",
      "weighted avg       0.73      0.72      0.70     36293\n",
      " \n",
      "\n",
      "[[ 1088  2483    34     0]\n",
      " [  322 16538  2215     0]\n",
      " [    9  4345  8599     0]\n",
      " [    0    75   578     7]] \n",
      "\n",
      "Cohen's Kappa score :  0.49067957625464464 \n",
      "\n"
     ]
    }
   ],
   "source": [
    "rf = RandomForestClassifier(n_estimators = 500, bootstrap= True, n_jobs=-1)\n",
    "print(\"Fitting...\")\n",
    "%time rf.fit(X_train, y_train)\n",
    "print(\"\\nPredicting...\")\n",
    "%time y_predicted = rf.predict(X_test)\n",
    "print(\"\\nReporting...\\n\")\n",
    "print(classification_report(y_test, y_predicted),\"\\n\")\n",
    "print(confusion_matrix(y_test, y_predicted),\"\\n\")\n",
    "print(\"Cohen's Kappa score : \",cohen_kappa_score(y_test, y_predicted),\"\\n\")"
   ]
  },
  {
   "cell_type": "code",
   "execution_count": 26,
   "metadata": {},
   "outputs": [
    {
     "name": "stdout",
     "output_type": "stream",
     "text": [
      "Fitting...\n",
      "Wall time: 14 s\n",
      "\n",
      "Predicting...\n",
      "Wall time: 20 ms\n",
      "\n",
      "Reporting...\n",
      "\n",
      "              precision    recall  f1-score   support\n",
      "\n",
      "           0       0.60      0.20      0.30      3605\n",
      "           1       0.63      0.80      0.71     19075\n",
      "           2       0.63      0.53      0.58     12953\n",
      "           3       0.17      0.03      0.04       660\n",
      "\n",
      "   micro avg       0.63      0.63      0.63     36293\n",
      "   macro avg       0.51      0.39      0.41     36293\n",
      "weighted avg       0.62      0.63      0.61     36293\n",
      " \n",
      "\n",
      "[[  708  2750   147     0]\n",
      " [  420 15255  3381    19]\n",
      " [   51  5927  6910    65]\n",
      " [    2   165   476    17]] \n",
      "\n",
      "Cohen's Kappa score :  0.31664953513246097 \n",
      "\n"
     ]
    }
   ],
   "source": [
    "dt = DecisionTreeClassifier(criterion='gini', max_depth=20, max)\n",
    "print(\"Fitting...\")\n",
    "%time dt.fit(X_train, y_train)\n",
    "print(\"\\nPredicting...\")\n",
    "%time y_predicted = dt.predict(X_test)\n",
    "print(\"\\nReporting...\\n\")\n",
    "print(classification_report(y_test, y_predicted),\"\\n\")\n",
    "print(confusion_matrix(y_test, y_predicted),\"\\n\")\n",
    "print(\"Cohen's Kappa score : \",cohen_kappa_score(y_test, y_predicted),\"\\n\")"
   ]
  },
  {
   "cell_type": "code",
   "execution_count": 30,
   "metadata": {},
   "outputs": [
    {
     "name": "stdout",
     "output_type": "stream",
     "text": [
      "Fitting...\n",
      "Wall time: 30 ms\n",
      "\n",
      "Predicting...\n",
      "Wall time: 7 ms\n",
      "\n",
      "Reporting...\n",
      "\n",
      "              precision    recall  f1-score   support\n",
      "\n",
      "           0       0.79      0.04      0.08      3605\n",
      "           1       0.63      0.87      0.73     19075\n",
      "           2       0.69      0.52      0.59     12953\n",
      "           3       0.00      0.00      0.00       660\n",
      "\n",
      "   micro avg       0.65      0.65      0.65     36293\n",
      "   macro avg       0.53      0.36      0.35     36293\n",
      "weighted avg       0.66      0.65      0.60     36293\n",
      " \n",
      "\n",
      "[[  152  3367    86     0]\n",
      " [   39 16650  2386     0]\n",
      " [    2  6226  6725     0]\n",
      " [    0   129   531     0]] \n",
      "\n",
      "Cohen's Kappa score :  0.32601989079960325 \n",
      "\n"
     ]
    }
   ],
   "source": [
    "nb = MultinomialNB()\n",
    "print(\"Fitting...\")\n",
    "%time nb.fit(X_train, y_train)\n",
    "print(\"\\nPredicting...\")\n",
    "%time y_predicted = nb.predict(X_test)\n",
    "print(\"\\nReporting...\\n\")\n",
    "print(classification_report(y_test, y_predicted),\"\\n\")\n",
    "print(confusion_matrix(y_test, y_predicted),\"\\n\")\n",
    "print(\"Cohen's Kappa score : \",cohen_kappa_score(y_test, y_predicted),\"\\n\")"
   ]
  },
  {
   "cell_type": "code",
   "execution_count": 31,
   "metadata": {},
   "outputs": [
    {
     "name": "stdout",
     "output_type": "stream",
     "text": [
      "Fitting...\n",
      "Wall time: 18.6 s\n",
      "\n",
      "Predicting...\n",
      "Wall time: 8.04 ms\n",
      "\n",
      "Reporting...\n",
      "\n",
      "              precision    recall  f1-score   support\n",
      "\n",
      "           0       0.53      0.31      0.39      3605\n",
      "           1       0.66      0.77      0.71     19075\n",
      "           2       0.65      0.60      0.62     12953\n",
      "           3       0.05      0.00      0.01       660\n",
      "\n",
      "   micro avg       0.65      0.65      0.65     36293\n",
      "   macro avg       0.47      0.42      0.43     36293\n",
      "weighted avg       0.63      0.65      0.64     36293\n",
      " \n",
      "\n",
      "[[ 1121  2370   111     3]\n",
      " [  890 14691  3469    25]\n",
      " [   97  5073  7750    33]\n",
      " [    1    84   572     3]] \n",
      "\n",
      "Cohen's Kappa score :  0.36856002856836245 \n",
      "\n"
     ]
    }
   ],
   "source": [
    "pa = PassiveAggressiveClassifier(max_iter=1000, n_jobs=-1)\n",
    "print(\"Fitting...\")\n",
    "%time pa.fit(X_train, y_train)\n",
    "print(\"\\nPredicting...\")\n",
    "%time y_predicted = pa.predict(X_test)\n",
    "print(\"\\nReporting...\\n\")\n",
    "print(classification_report(y_test, y_predicted),\"\\n\")\n",
    "print(confusion_matrix(y_test, y_predicted),\"\\n\")\n",
    "print(\"Cohen's Kappa score : \",cohen_kappa_score(y_test, y_predicted),\"\\n\")"
   ]
  },
  {
   "cell_type": "markdown",
   "metadata": {},
   "source": [
    "To do : \n",
    "- try XGBOOST\n",
    "- random forest parameters tuning with gridsearch\n",
    "- adaboosting on random forest\n",
    "- try to train on a more balanced subset of the data (not enough class1 and class4)\n",
    "- use 10 fold to evaluate models\n",
    "- make nicer confusion matrix\n",
    "- refactor"
   ]
  }
 ],
 "metadata": {
  "kernelspec": {
   "display_name": "Python 3",
   "language": "python",
   "name": "python3"
  },
  "language_info": {
   "codemirror_mode": {
    "name": "ipython",
    "version": 3
   },
   "file_extension": ".py",
   "mimetype": "text/x-python",
   "name": "python",
   "nbconvert_exporter": "python",
   "pygments_lexer": "ipython3",
   "version": "3.7.1"
  }
 },
 "nbformat": 4,
 "nbformat_minor": 2
}
