{
 "cells": [
  {
   "cell_type": "markdown",
   "metadata": {},
   "source": [
    "# Predict a wine's score based on its description\n",
    "*Loïc Gauthier*\n",
    "\n",
    "In this kernel, I'm taking a look at a great data set about wines from Zack Thoutt. It contains about 130k user reviews (description, score, price...) of wines from various origins.\n",
    "\n",
    "My goal for this kernel is to predict the score a user will give to a wine, solely based on the description he redacted. To that end, I'll be following the following structure.\n",
    "\n",
    "        O. Imports\n",
    "        1. First Look\n",
    "        2. Checking for missing values\n",
    "        3. Descriptive statistics, distribution fitting and outliers\n",
    "        4. Text Mining\n",
    "            a) Defining features\n",
    "            b) Dimension reduction\n",
    "        5. Machine Learning\n",
    "        6. Conclusion\n"
   ]
  },
  {
   "cell_type": "markdown",
   "metadata": {},
   "source": [
    "## 0. Imports"
   ]
  },
  {
   "cell_type": "code",
   "execution_count": 1,
   "metadata": {},
   "outputs": [],
   "source": [
    "#Easy data manipulation\n",
    "import pandas as pd\n",
    "import numpy as np\n",
    "\n",
    "#Plotting\n",
    "import seaborn as sns\n",
    "sns.set(style='white', context='notebook', palette='deep')\n",
    "import matplotlib.pyplot as plt\n",
    "\n",
    "#Who likes warnings anyway?\n",
    "import warnings\n",
    "warnings.filterwarnings('ignore')\n",
    "\n",
    "#Pre-processing, tuning of parameters and scoring tools\n",
    "from sklearn.model_selection import train_test_split\n",
    "from sklearn.preprocessing import StandardScaler, MinMaxScaler\n",
    "from sklearn.metrics import classification_report, confusion_matrix, cohen_kappa_score, roc_auc_score, roc_curve\n",
    "\n",
    "#Basic text mining tools\n",
    "from sklearn.feature_extraction import stop_words\n",
    "from sklearn.feature_extraction.text import CountVectorizer, TfidfTransformer\n",
    "from sklearn.decomposition import TruncatedSVD\n",
    "from sklearn.feature_extraction import text #Allow stop_words customization\n",
    "\n",
    "#Machine Learning models\n",
    "from sklearn.tree import DecisionTreeClassifier\n",
    "from sklearn.ensemble import RandomForestClassifier, AdaBoostClassifier\n",
    "from sklearn.neural_network import MLPClassifier\n",
    "from sklearn.svm import LinearSVC\n",
    "from sklearn.naive_bayes import MultinomialNB\n",
    "\n",
    "#Used for distribution fitting, and representation\n",
    "from scipy import stats\n",
    "\n",
    "#Time measuring for model training\n",
    "from time import time"
   ]
  },
  {
   "cell_type": "markdown",
   "metadata": {},
   "source": [
    "We read the data set."
   ]
  },
  {
   "cell_type": "code",
   "execution_count": 2,
   "metadata": {},
   "outputs": [],
   "source": [
    "df = pd.read_csv('../input/winemag-data-130k-v2.csv')"
   ]
  },
  {
   "cell_type": "markdown",
   "metadata": {},
   "source": [
    "## 1. First look"
   ]
  },
  {
   "cell_type": "code",
   "execution_count": 3,
   "metadata": {},
   "outputs": [
    {
     "name": "stdout",
     "output_type": "stream",
     "text": [
      "Number of entries (rows): 129971 \n",
      "Number of features (columns): 14\n"
     ]
    },
    {
     "data": {
      "text/html": [
       "<div>\n",
       "<style scoped>\n",
       "    .dataframe tbody tr th:only-of-type {\n",
       "        vertical-align: middle;\n",
       "    }\n",
       "\n",
       "    .dataframe tbody tr th {\n",
       "        vertical-align: top;\n",
       "    }\n",
       "\n",
       "    .dataframe thead th {\n",
       "        text-align: right;\n",
       "    }\n",
       "</style>\n",
       "<table border=\"1\" class=\"dataframe\">\n",
       "  <thead>\n",
       "    <tr style=\"text-align: right;\">\n",
       "      <th></th>\n",
       "      <th>Unnamed: 0</th>\n",
       "      <th>country</th>\n",
       "      <th>description</th>\n",
       "      <th>designation</th>\n",
       "      <th>points</th>\n",
       "      <th>price</th>\n",
       "      <th>province</th>\n",
       "      <th>region_1</th>\n",
       "      <th>region_2</th>\n",
       "      <th>taster_name</th>\n",
       "      <th>taster_twitter_handle</th>\n",
       "      <th>title</th>\n",
       "      <th>variety</th>\n",
       "      <th>winery</th>\n",
       "    </tr>\n",
       "  </thead>\n",
       "  <tbody>\n",
       "    <tr>\n",
       "      <th>0</th>\n",
       "      <td>0</td>\n",
       "      <td>Italy</td>\n",
       "      <td>Aromas include tropical fruit, broom, brimston...</td>\n",
       "      <td>Vulkà Bianco</td>\n",
       "      <td>87</td>\n",
       "      <td>NaN</td>\n",
       "      <td>Sicily &amp; Sardinia</td>\n",
       "      <td>Etna</td>\n",
       "      <td>NaN</td>\n",
       "      <td>Kerin O’Keefe</td>\n",
       "      <td>@kerinokeefe</td>\n",
       "      <td>Nicosia 2013 Vulkà Bianco  (Etna)</td>\n",
       "      <td>White Blend</td>\n",
       "      <td>Nicosia</td>\n",
       "    </tr>\n",
       "    <tr>\n",
       "      <th>1</th>\n",
       "      <td>1</td>\n",
       "      <td>Portugal</td>\n",
       "      <td>This is ripe and fruity, a wine that is smooth...</td>\n",
       "      <td>Avidagos</td>\n",
       "      <td>87</td>\n",
       "      <td>15.0</td>\n",
       "      <td>Douro</td>\n",
       "      <td>NaN</td>\n",
       "      <td>NaN</td>\n",
       "      <td>Roger Voss</td>\n",
       "      <td>@vossroger</td>\n",
       "      <td>Quinta dos Avidagos 2011 Avidagos Red (Douro)</td>\n",
       "      <td>Portuguese Red</td>\n",
       "      <td>Quinta dos Avidagos</td>\n",
       "    </tr>\n",
       "    <tr>\n",
       "      <th>2</th>\n",
       "      <td>2</td>\n",
       "      <td>US</td>\n",
       "      <td>Tart and snappy, the flavors of lime flesh and...</td>\n",
       "      <td>NaN</td>\n",
       "      <td>87</td>\n",
       "      <td>14.0</td>\n",
       "      <td>Oregon</td>\n",
       "      <td>Willamette Valley</td>\n",
       "      <td>Willamette Valley</td>\n",
       "      <td>Paul Gregutt</td>\n",
       "      <td>@paulgwine</td>\n",
       "      <td>Rainstorm 2013 Pinot Gris (Willamette Valley)</td>\n",
       "      <td>Pinot Gris</td>\n",
       "      <td>Rainstorm</td>\n",
       "    </tr>\n",
       "  </tbody>\n",
       "</table>\n",
       "</div>"
      ],
      "text/plain": [
       "   Unnamed: 0         ...                        winery\n",
       "0           0         ...                       Nicosia\n",
       "1           1         ...           Quinta dos Avidagos\n",
       "2           2         ...                     Rainstorm\n",
       "\n",
       "[3 rows x 14 columns]"
      ]
     },
     "execution_count": 3,
     "metadata": {},
     "output_type": "execute_result"
    }
   ],
   "source": [
    "print(\"Number of entries (rows):\", df.shape[0],\\\n",
    "      \"\\nNumber of features (columns):\", df.shape[1])\n",
    "\n",
    "df.head(3)"
   ]
  },
  {
   "cell_type": "markdown",
   "metadata": {},
   "source": [
    "For our study, we will only consider the following features:\n",
    "* \"description\": contains a short description of a specific wine, its flavor and its aspect redacted by a user. This is the only explanatory variable we will use.\n",
    "* \"points\": contains the score between 80/100 and 100/100 given to a wine by a user. This is the variable we want to predict based on the description.\n",
    "\n",
    "Let's see if there are any missing values for these two features in the data set, and simply drop the line if there are. "
   ]
  },
  {
   "cell_type": "markdown",
   "metadata": {},
   "source": [
    "## 2. Checking for missing values"
   ]
  },
  {
   "cell_type": "code",
   "execution_count": 4,
   "metadata": {},
   "outputs": [
    {
     "name": "stdout",
     "output_type": "stream",
     "text": [
      "Number of missing values for the Score feature:  0\n",
      "Number of missing descriptions:  0\n"
     ]
    }
   ],
   "source": [
    "#Keep only the useful columns and rename them for ease of use\n",
    "df = df[['description', 'points']]\n",
    "df.rename(columns={'description':'Description',\n",
    "                   'points':'Score'},\n",
    "                   inplace=True)\n",
    " \n",
    "#Add a column with the length of the description in characters, we use it to check for empty descriptions\n",
    "df[\"Description_Length\"] = [len(desc) for desc in df['Description']]\n",
    "\n",
    "#Check for missing values\n",
    "print(\"Number of missing values for the Score feature: \", len(df[df['Score'].isnull()]))\n",
    "print(\"Number of missing descriptions: \", len(df[df['Description_Length']==0]))"
   ]
  },
  {
   "cell_type": "markdown",
   "metadata": {},
   "source": [
    "Perfect ! We have no missing scores or desciptions, so no entry to drop.\n",
    "\n",
    "We will now keep the Description_Length feature to see if it is useful to help predict a wine's score. Let's take a look at the basic statistics of our 2 numerical features : Score and Description_Length. "
   ]
  },
  {
   "cell_type": "markdown",
   "metadata": {},
   "source": [
    "## 3. Descriptive statistics, distribution fitting and outliers"
   ]
  },
  {
   "cell_type": "code",
   "execution_count": 5,
   "metadata": {},
   "outputs": [
    {
     "data": {
      "text/html": [
       "<div>\n",
       "<style scoped>\n",
       "    .dataframe tbody tr th:only-of-type {\n",
       "        vertical-align: middle;\n",
       "    }\n",
       "\n",
       "    .dataframe tbody tr th {\n",
       "        vertical-align: top;\n",
       "    }\n",
       "\n",
       "    .dataframe thead th {\n",
       "        text-align: right;\n",
       "    }\n",
       "</style>\n",
       "<table border=\"1\" class=\"dataframe\">\n",
       "  <thead>\n",
       "    <tr style=\"text-align: right;\">\n",
       "      <th></th>\n",
       "      <th>Score</th>\n",
       "      <th>Description_Length</th>\n",
       "    </tr>\n",
       "  </thead>\n",
       "  <tbody>\n",
       "    <tr>\n",
       "      <th>count</th>\n",
       "      <td>129971.000000</td>\n",
       "      <td>129971.000000</td>\n",
       "    </tr>\n",
       "    <tr>\n",
       "      <th>mean</th>\n",
       "      <td>88.447138</td>\n",
       "      <td>242.601065</td>\n",
       "    </tr>\n",
       "    <tr>\n",
       "      <th>std</th>\n",
       "      <td>3.039730</td>\n",
       "      <td>66.584276</td>\n",
       "    </tr>\n",
       "    <tr>\n",
       "      <th>min</th>\n",
       "      <td>80.000000</td>\n",
       "      <td>20.000000</td>\n",
       "    </tr>\n",
       "    <tr>\n",
       "      <th>25%</th>\n",
       "      <td>86.000000</td>\n",
       "      <td>197.000000</td>\n",
       "    </tr>\n",
       "    <tr>\n",
       "      <th>50%</th>\n",
       "      <td>88.000000</td>\n",
       "      <td>237.000000</td>\n",
       "    </tr>\n",
       "    <tr>\n",
       "      <th>75%</th>\n",
       "      <td>91.000000</td>\n",
       "      <td>282.000000</td>\n",
       "    </tr>\n",
       "    <tr>\n",
       "      <th>max</th>\n",
       "      <td>100.000000</td>\n",
       "      <td>829.000000</td>\n",
       "    </tr>\n",
       "  </tbody>\n",
       "</table>\n",
       "</div>"
      ],
      "text/plain": [
       "               Score  Description_Length\n",
       "count  129971.000000       129971.000000\n",
       "mean       88.447138          242.601065\n",
       "std         3.039730           66.584276\n",
       "min        80.000000           20.000000\n",
       "25%        86.000000          197.000000\n",
       "50%        88.000000          237.000000\n",
       "75%        91.000000          282.000000\n",
       "max       100.000000          829.000000"
      ]
     },
     "execution_count": 5,
     "metadata": {},
     "output_type": "execute_result"
    }
   ],
   "source": [
    "df.describe()"
   ]
  },
  {
   "cell_type": "markdown",
   "metadata": {},
   "source": [
    "In a more visual way, we can see most of these descriptive statistics on the following plots."
   ]
  },
  {
   "cell_type": "code",
   "execution_count": 6,
   "metadata": {},
   "outputs": [
    {
     "data": {
      "image/png": "[encoded data removed]",
      "text/plain": [
       "<Figure size 432x288 with 2 Axes>"
      ]
     },
     "metadata": {},
     "output_type": "display_data"
    }
   ],
   "source": [
    "#Make a subplot grid\n",
    "f, (ax_box, ax_hist) = plt.subplots(2, sharex=True, gridspec_kw={\"height_ratios\": (0.25, 0.75)})\n",
    " \n",
    "#Associate a plot to each of the subplot grid\n",
    "sns.boxplot(df[\"Score\"], ax=ax_box).set_title(\"Basic representation of the Score feature\\n\")\n",
    "sns.distplot(df[\"Score\"], ax=ax_hist, kde=False, fit=stats.gamma, bins=20) \n",
    "#We can fit a gamma distribution, just for the sake of representation.\n",
    " \n",
    "#Set axes legends\n",
    "ax_box.set(xlabel='') #Remove x axis name for the boxplot\n",
    "ax_hist.set(ylabel='Density')\n",
    "\n",
    "plt.show()\n"
   ]
  },
  {
   "cell_type": "code",
   "execution_count": 7,
   "metadata": {},
   "outputs": [
    {
     "name": "stdout",
     "output_type": "stream",
     "text": [
      "Number of outliers: 52 \n",
      "Outlier proportion: 0.04 % \n",
      "Outlier threshold score: 98.5 / 100\n"
     ]
    }
   ],
   "source": [
    "Q3 = np.quantile(df['Score'], 0.75) #Third quartile\n",
    "Q1 = np.quantile(df['Score'], 0.25) #First quartile\n",
    "IQR = Q3 - Q1 #Inter Quartile Range\n",
    "\n",
    "outlier_score_threshold =  Q3 + 1.5 * IQR\n",
    "outlier_number=len(df[ df['Score'] > outlier_score_threshold ])\n",
    "\n",
    "print(\"Number of outliers:\", outlier_number,\n",
    "      \"\\nOutlier proportion:\", round(outlier_number/len(df['Score'])*100, 3),\"%\",\n",
    "      \"\\nOutlier threshold score:\", outlier_score_threshold,\"/ 100\")"
   ]
  },
  {
   "cell_type": "markdown",
   "metadata": {},
   "source": [
    "50% of the scores are between 86/100 and 91/100. There are only a few outliers , 52 (representing 0.04% of entries), which scored over 98.5/100.\n",
    "\n",
    "An interpretation would be that excellent wines are rarer. Another could be that users reviewing wines are very hard to please."
   ]
  },
  {
   "cell_type": "code",
   "execution_count": 8,
   "metadata": {},
   "outputs": [
    {
     "data": {
      "image/png": "[encoded data removed]",
      "text/plain": [
       "<Figure size 432x288 with 2 Axes>"
      ]
     },
     "metadata": {},
     "output_type": "display_data"
    },
    {
     "data": {
      "image/png": "[encoded data removed]",
      "text/plain": [
       "<Figure size 432x288 with 1 Axes>"
      ]
     },
     "metadata": {},
     "output_type": "display_data"
    },
    {
     "name": "stdout",
     "output_type": "stream",
     "text": [
      "Skewness: 0.616101\n",
      "Kurtosis: 1.205444\n"
     ]
    }
   ],
   "source": [
    "#Make a subplot grid\n",
    "f, (ax_box, ax_hist) = plt.subplots(2, sharex=True, gridspec_kw={\"height_ratios\": (0.25, 0.75)})\n",
    " \n",
    "#Associate a plot to each of the subplot grid\n",
    "sns.boxplot(df[\"Description_Length\"], ax=ax_box).set_title(\"Basic description of the Description_Length\")\n",
    "sns.distplot(df[\"Description_Length\"], ax=ax_hist, kde=False, fit=stats.gamma, bins=50) \n",
    "#We can fit a gamma distribution, the fit is rather impressive here.\n",
    "\n",
    "#Parameters of the gamma distribution\n",
    "alpha, loc, beta = stats.gamma.fit(df['Description_Length'])\n",
    "plt.legend(['Gamma distribution \\nShape = {0:.2f} \\nLoc = {1:.2f}  \\nScale = {2:.2f}'.format(alpha, loc, beta)],loc='best')\n",
    "\n",
    "#Set axes legends\n",
    "ax_box.set(xlabel='') #Remove x axis name for the boxplot\n",
    "ax_hist.set(ylabel='Frequency')\n",
    "\n",
    "plt.show()\n",
    "\n",
    "#How good is the fit with the gamma distribution ?\n",
    "fig = plt.figure()\n",
    "res = stats.probplot(df['Description_Length'], dist=stats.gamma(a= alpha, loc=loc, scale=beta), plot=plt)\n",
    "plt.show()\n",
    "\n",
    "#Other basic statistics\n",
    "print(\"Skewness: %f\" % df['Description_Length'].skew())\n",
    "print(\"Kurtosis: %f\" % df['Description_Length'].kurt())"
   ]
  },
  {
   "cell_type": "markdown",
   "metadata": {},
   "source": [
    "Looking at the QQ-plot, we see that Description_Length seems to follow a Gamma distribution. The only deviation from the gamma distribution is the Description_Length of above 400 words. In other words, the actual underlying distribution of Description_Length has an heavier right tail than the gamma distribution we fitted.\n",
    "\n",
    "Now, as we'll see in the following cell, these Description_Lengths of more than 400 words can mostly be considered as outliers."
   ]
  },
  {
   "cell_type": "code",
   "execution_count": 9,
   "metadata": {},
   "outputs": [
    {
     "name": "stdout",
     "output_type": "stream",
     "text": [
      "Number of outliers (high - low): 2090 ( 1969 - 121 ) \n",
      "Outlier proportion: 1.608 % \n",
      "Outlier threshold lengths (high - low): 409.5 - 69.5\n"
     ]
    }
   ],
   "source": [
    "Q3 = np.quantile(df['Description_Length'], 0.75) #Third quartile\n",
    "Q1 = np.quantile(df['Description_Length'], 0.25) #First quartile\n",
    "IQR = Q3 - Q1 #Inter Quartile Range\n",
    "\n",
    "outlier_score_threshold_high = Q3 + 1.5 * IQR\n",
    "outlier_score_threshold_low = Q1 - 1.5 * IQR\n",
    "\n",
    "outlier_number_total=len(df[np.logical_or(df['Description_Length'] > outlier_score_threshold_high,\n",
    "                         df['Description_Length'] < outlier_score_threshold_low)])\n",
    "\n",
    "outlier_number_low = len(df[df['Description_Length'] < outlier_score_threshold_low])\n",
    "outlier_number_high = outlier_number_total - outlier_number_low\n",
    "\n",
    "print(\"Number of outliers (high - low):\", outlier_number_total, \"(\",outlier_number_high,\"-\",outlier_number_low,\")\",\n",
    "      \"\\nOutlier proportion:\", round(outlier_number_total/len(df['Description_Length'])*100, 3),\"%\",\n",
    "      \"\\nOutlier threshold lengths (high - low):\", outlier_score_threshold_high,\"-\",outlier_score_threshold_low)"
   ]
  },
  {
   "cell_type": "markdown",
   "metadata": {},
   "source": [
    "The descriptions are between 20 and 829 words long. The IQR is rather small: 50% of the descriptions are between 197 and 282 words long. Here we have a few more outliers than for the Score feature: 1969 entries are made of more than 409 words and 121 are made of fewer than 69. To put it in perspective, outliers represent 1.6% of the data set.\n",
    "\n",
    "This could indicate that users are serious about reviewing wine, and want to justify their evaluation extensively. \n",
    "\n",
    "We could also hyothesize that there is not a lot to be said about really bad wines, meaning that the 121 descriptions made of fewer than 69 words are only about bad wines. Let's verify that !"
   ]
  },
  {
   "cell_type": "code",
   "execution_count": 10,
   "metadata": {},
   "outputs": [
    {
     "data": {
      "image/png": "[encoded data removed]",
      "text/plain": [
       "<Figure size 432x288 with 2 Axes>"
      ]
     },
     "metadata": {},
     "output_type": "display_data"
    },
    {
     "name": "stdout",
     "output_type": "stream",
     "text": [
      "Mean score given after a description shorter than 70 words: 84.02 / 100\n",
      "Proportion of wines with short description with a score below the set's median: 90.5 %\n"
     ]
    }
   ],
   "source": [
    "#These are the entries with a very short description\n",
    "sub_df = df[df['Description_Length']<outlier_number_low]\n",
    "\n",
    "#Make a subplot grid\n",
    "f, (ax_box, ax_hist) = plt.subplots(2, sharex=True, gridspec_kw={\"height_ratios\": (0.25, 0.75)})\n",
    " \n",
    "#Associate a plot to each of the subplot grid\n",
    "sns.boxplot(sub_df['Score'], ax=ax_box).set_title(\"Scores of wines given a description shorter than 70 words\\n\")\n",
    "sns.distplot(sub_df['Score'], ax=ax_hist, kde=False, fit=stats.gamma, bins=15) \n",
    " \n",
    "#Set axes legends\n",
    "ax_box.set(xlabel='') #Remove x axis name for the boxplot\n",
    "ax_hist.set(ylabel='Frequency')\n",
    "\n",
    "plt.show()\n",
    "\n",
    "mean_score = np.mean(sub_df['Score'])\n",
    "print(\"Mean score given after a description shorter than 70 words:\", round(mean_score,2), \"/ 100\")\n",
    "\n",
    "proportion_below_median = len(sub_df[sub_df['Score']<88]['Score'])/len(sub_df['Score'])\n",
    "print(\"Proportion of wines with short description with a score below the set's median:\", round(proportion_below_median*100,2),\"%\")\n"
   ]
  },
  {
   "cell_type": "markdown",
   "metadata": {},
   "source": [
    "This confirms that short descriptions tends to be about wines with lower scores. Indeed, more than 90% of the wines which were given a description with fewer than 70 words are scoring below the data set's average and median.\n",
    "\n",
    "This also means that the Description_Length feature will definetly be useful in order to predict the scores.\n",
    "\n",
    "Now, let's make a scatter plot of the Desciption_Length with respect to the Score."
   ]
  },
  {
   "cell_type": "code",
   "execution_count": 11,
   "metadata": {},
   "outputs": [
    {
     "data": {
      "image/png": "[encoded data removed]",
      "text/plain": [
       "<Figure size 432x432 with 3 Axes>"
      ]
     },
     "metadata": {},
     "output_type": "display_data"
    },
    {
     "name": "stdout",
     "output_type": "stream",
     "text": [
      "Correlation between Score and Description_Length: 0.56\n"
     ]
    }
   ],
   "source": [
    "sns.jointplot(x=\"Score\", y=\"Description_Length\", data=df)\n",
    "plt.show()\n",
    "\n",
    "corr= np.corrcoef(df[\"Score\"], df[\"Description_Length\"])[0,1]\n",
    "print(\"Correlation between Score and Description_Length:\",round(corr,2))"
   ]
  },
  {
   "cell_type": "markdown",
   "metadata": {},
   "source": [
    "There is a positive, albeit weak correlation between Score and Description_Length. It doesn't seem wise to try to predict a wine's score solely based on its description length with a linear model though."
   ]
  },
  {
   "cell_type": "markdown",
   "metadata": {},
   "source": [
    "## 4. Text mining\n",
    "### a) Defining features"
   ]
  },
  {
   "cell_type": "markdown",
   "metadata": {},
   "source": [
    "We separate the descriptions and the scores. The Description_Length feature will be added later on."
   ]
  },
  {
   "cell_type": "code",
   "execution_count": 12,
   "metadata": {},
   "outputs": [],
   "source": [
    "corpus = df[\"Description\"].values\n",
    "Y = df[\"Score\"].values"
   ]
  },
  {
   "cell_type": "markdown",
   "metadata": {},
   "source": [
    "We use sklearn's CountVectorizer with some custom stop_words to build a sparse matrix of 1000 features (words)."
   ]
  },
  {
   "cell_type": "code",
   "execution_count": 13,
   "metadata": {},
   "outputs": [
    {
     "name": "stdout",
     "output_type": "stream",
     "text": [
      "Number of entries (rows): 129971 \n",
      "Number of features (columns): 1000\n"
     ]
    }
   ],
   "source": [
    "#Customize stop words after having a first look at the most frequent words\n",
    "customStopWords = text.ENGLISH_STOP_WORDS.union(['wine', '2009', '2010','2011', '2012', '2013', '2014', '2015','2016', '2017', '2018',\n",
    "                                                 '2019', '2020', '2021', '2022','2023', '2024', '2025', '2030', '100', '10', '12',\n",
    "                                                 '14', '15', '20', '25', '30','40', '50', '60', '70', '90'])\n",
    "#The words we add to the english stop words are mostly references to dates and prices, hence numbers.\n",
    "\n",
    "#Use the CountVectorizer: we consider 1000 features, either individual words or pairs\n",
    "CV = CountVectorizer(stop_words=customStopWords, max_features=1000, ngram_range=(1,2))\n",
    "X = CV.fit_transform(corpus) #Let's be careful here, X is a sparse Matrix\n",
    "\n",
    "print(\"Number of entries (rows):\", X.shape[0],\\\n",
    "      \"\\nNumber of features (columns):\", X.shape[1])"
   ]
  },
  {
   "cell_type": "markdown",
   "metadata": {},
   "source": [
    "Now, if we want to, we can take a look at the top 20 most frequent words / pair of words, we can. Although this is neither the most elegant, nor fastest way to do it, the following approach works just fine."
   ]
  },
  {
   "cell_type": "code",
   "execution_count": 14,
   "metadata": {},
   "outputs": [
    {
     "name": "stdout",
     "output_type": "stream",
     "text": [
      "20 most frequent words: [('flavors', 62796), ('fruit', 49939), ('aromas', 39639), ('palate', 38523), ('acidity', 35003), ('finish', 34974), ('tannins', 30878), ('drink', 30323), ('cherry', 29322), ('black', 29024), ('ripe', 27377), ('red', 21784), ('spice', 19233), ('notes', 19047), ('oak', 17769), ('fresh', 17527), ('rich', 17466), ('dry', 17222), ('berry', 16983), ('nose', 16963)]\n"
     ]
    }
   ],
   "source": [
    "X_array = X.toarray() #Convert X from a sparse matrix to a usual matrix\n",
    "\n",
    "inverted_dict = dict([[v,k] for k,v in CV.vocabulary_.items()]) # {X_array column index: \"word\"}\n",
    "final_dict = {} # {\"word\": total number of instances }\n",
    "\n",
    "for x in range(len(X_array[0,:])): #Fill the final dict\n",
    "    final_dict[inverted_dict[x]]=np.sum(X_array[:,x]) \n",
    "\n",
    "print(\"20 most frequent words:\",sorted(final_dict.items(), key = lambda kv:(kv[1], kv[0]), reverse=True)[0:20]) #Display of the final dict"
   ]
  },
  {
   "cell_type": "markdown",
   "metadata": {},
   "source": [
    "We will now use TF-IDF. It it a classical method used to determine the importance of each word in the corpus.\n",
    "\n",
    "Quoting Wikipedia: \"The tf–idf value increases proportionally to the number of times a word appears in the document and is offset by the number of documents in the corpus that contain the word, which helps to adjust for the fact that some words appear more frequently in general. Tf–idf is one of the most popular term-weighting schemes today; 83% of text-based recommender systems in digital libraries use tf–idf.\"\n",
    "\n",
    "*Note : instead of using CountVectorizer, and then TF-IDF, it would have been equivalent to use directly TfidfVectorizer.*"
   ]
  },
  {
   "cell_type": "code",
   "execution_count": 15,
   "metadata": {},
   "outputs": [],
   "source": [
    "TFIDF = TfidfTransformer()\n",
    "X_TFIDF = TFIDF.fit_transform(X)"
   ]
  },
  {
   "cell_type": "markdown",
   "metadata": {},
   "source": [
    "### b) Dimension reduction\n",
    "At that point, we have a (129971x1000) matrix describing the information contained in wines' descriptions. Having 1000 features might slow us down a lot when we'll use machine learning models on it.\n",
    "\n",
    "Let's see the impact of TruncatedSVD, a dimension reduction technique similar to PCA but for sparse matrices, on the loss of explained variance. Is it worth it to give up some information for easier computation ?"
   ]
  },
  {
   "cell_type": "code",
   "execution_count": 18,
   "metadata": {},
   "outputs": [
    {
     "data": {
      "image/png": "[encoded data removed]",
      "text/plain": [
       "<Figure size 432x288 with 1 Axes>"
      ]
     },
     "metadata": {},
     "output_type": "display_data"
    }
   ],
   "source": [
    "Y_rep = [0] #Will stock the cumulative explained variance ratio of the SVD, for each n_components\n",
    "\n",
    "#Actual SVD\n",
    "SVD = TruncatedSVD(n_components = 999) \n",
    "X_SVD = SVD.fit_transform(X_TFIDF)\n",
    "var = SVD.explained_variance_ratio_\n",
    "\n",
    "#This will help us decide on the final number of components we want to keep \n",
    "for x in range(999): \n",
    "    Y_rep.append(Y_rep[-1]+var[x])\n",
    "\n",
    "plt.plot(Y_rep)\n",
    "plt.plot(sorted(var*78, reverse=True))\n",
    "\n",
    "plt.title(\"Explained variance ratio, and scaled marginal explained variance gain\\nw.r.t the number of components kept for SVD\\n\")\n",
    "plt.legend(['Explained variance ratio', 'Marginal gain of explained variance'], loc='best')\n",
    "plt.xlabel('Number of components')\n",
    "plt.ylabel('')\n",
    "\n",
    "plt.show() "
   ]
  },
  {
   "cell_type": "markdown",
   "metadata": {},
   "source": [
    "At first, each additionnal component adds a lot to the explained variance ratio. With each additional component, the marginal gain of explained variance decreases steeply until around 50 components. After that, the marginal gain decreases a lot slower.\n",
    "\n",
    "We will try to keep our 1000 components to learn from. If some models take too long, we might come back to dimension reduction and  Truncated SVD. But with no specific application in mind, it doesn't seem necessary to loose information to lower the training duration of some models."
   ]
  },
  {
   "cell_type": "markdown",
   "metadata": {},
   "source": [
    "## 5. Machine Learning"
   ]
  },
  {
   "cell_type": "markdown",
   "metadata": {},
   "source": [
    "To make the problem more convenient to work with, we will make it a classification problem. Let's define 2 balanced classes. The first one (0) will be associated to wines scoring below the median score, and the second (1) above the median score."
   ]
  },
  {
   "cell_type": "code",
   "execution_count": 19,
   "metadata": {},
   "outputs": [
    {
     "name": "stdout",
     "output_type": "stream",
     "text": [
      "Number of entries: 129971 \n",
      "Number of features: 1001\n"
     ]
    }
   ],
   "source": [
    "#Balanced discretization in 2 classes\n",
    "median = np.median(Y) #88.0\n",
    "Y[Y < median] = 0\n",
    "Y[Y >= median] = 1\n",
    "\n",
    "#Re-type Y as int\n",
    "Y=Y.astype(int)\n",
    "\n",
    "#Concatenation of X_TFIDF and Description_Length to obtain our final X matrix\n",
    "X = np.append(X_TFIDF.toarray(), df[\"Description_Length\"].values[:, None], axis=1)\n",
    "\n",
    "print(\"Number of entries:\", X.shape[0],\\\n",
    "      \"\\nNumber of features:\", X.shape[1])"
   ]
  },
  {
   "cell_type": "markdown",
   "metadata": {},
   "source": [
    "As usual, in order to make sure our models evaluation doesn't reward overfitting, we divide our explanatory features and class label in a train set (70% of entries) and a test set (30% of entries).\n",
    "\n",
    "We will train models on train sets, and then evaluate them on test sets."
   ]
  },
  {
   "cell_type": "code",
   "execution_count": 20,
   "metadata": {},
   "outputs": [],
   "source": [
    "#Test/Train split\n",
    "X_train, X_test, y_train, y_test = train_test_split(X, Y,test_size=0.3, shuffle=True)"
   ]
  },
  {
   "cell_type": "markdown",
   "metadata": {},
   "source": [
    "But before training, we have to normalize our data. Indeed, while TFIDF already kind of does that already for our 1000 first features, we need to normalize the Description_Length feature for better results with certain algorithms (like kNN for instance)"
   ]
  },
  {
   "cell_type": "code",
   "execution_count": 21,
   "metadata": {},
   "outputs": [],
   "source": [
    "#Normalization\n",
    "scaler = StandardScaler()\n",
    "X_train = scaler.fit_transform(X_train)    #We don't cheat here, we fit our scaler only on the train data\n",
    "X_test = scaler.transform(X_test)          #X_test is ONLY transformed, based on X_train fit"
   ]
  },
  {
   "cell_type": "markdown",
   "metadata": {},
   "source": [
    "Our setup is completed, we can now try some models. For more convenience, we begin by defining a simple function for training and scoring models in order to help us choose the best."
   ]
  },
  {
   "cell_type": "code",
   "execution_count": 22,
   "metadata": {},
   "outputs": [],
   "source": [
    "def FitAndScore(classifier, X_train, X_test, y_train, y_test):\n",
    "    print(\"Fitting...\")\n",
    "    start = time()\n",
    "    classifier.fit(X_train, y_train)\n",
    "    end = time()\n",
    "    print(\"( {0:.2f} seconds )\".format(end-start))\n",
    "    \n",
    "    print(\"\\nPredicting...\")\n",
    "    start = time()\n",
    "    y_predicted = classifier.predict(X_test)\n",
    "    end = time()\n",
    "    print(\"( {0:.2f} seconds )\".format(end-start))\n",
    "    \n",
    "    print(\"\\nReporting...\\n\")\n",
    "    print(classification_report(y_test, y_predicted),\"\\n\")\n",
    "    print(\"Confusion matrix:\\n\")\n",
    "    print(confusion_matrix(y_test, y_predicted),\"\\n\")\n",
    "    print(\"Cohen's Kappa score : \",cohen_kappa_score(y_test, y_predicted),\"\\n\")\n",
    "    \n",
    "    #If we formulate the problem with binary classes, we can take a look at the ROC curve and associated score\n",
    "    if len(np.unique(y_test)) == 2:\n",
    "        print(\"AUC score : {0:.3f}\".format(roc_auc_score(y_test, y_predicted)))\n",
    "        fpr, tpr, thresholds = roc_curve(y_test, y_predicted)\n",
    "        plt.plot([0, 1], [0, 1], linestyle='--')\n",
    "        plt.plot(fpr, tpr, marker='.')\n",
    "        plt.title(\"ROC Curve\")\n",
    "        plt.show()"
   ]
  },
  {
   "cell_type": "markdown",
   "metadata": {},
   "source": [
    "Let's try a first simple model: a decision tree using Gini impurity as a criterion, and a max depth of 10."
   ]
  },
  {
   "cell_type": "code",
   "execution_count": 23,
   "metadata": {},
   "outputs": [
    {
     "name": "stdout",
     "output_type": "stream",
     "text": [
      "Fitting...\n",
      "( 27.06 seconds )\n",
      "\n",
      "Predicting...\n",
      "( 0.19 seconds )\n",
      "\n",
      "Reporting...\n",
      "\n",
      "              precision    recall  f1-score   support\n",
      "\n",
      "           0       0.70      0.60      0.64     15548\n",
      "           1       0.76      0.83      0.79     23444\n",
      "\n",
      "   micro avg       0.74      0.74      0.74     38992\n",
      "   macro avg       0.73      0.71      0.72     38992\n",
      "weighted avg       0.73      0.74      0.73     38992\n",
      " \n",
      "\n",
      "Confusion matrix:\n",
      "\n",
      "[[ 9261  6287]\n",
      " [ 3975 19469]] \n",
      "\n",
      "Cohen's Kappa score :  0.4370301839777291 \n",
      "\n",
      "AUC score : 0.713\n"
     ]
    },
    {
     "data": {
      "image/png": "[encoded data removed]",
      "text/plain": [
       "<Figure size 432x288 with 1 Axes>"
      ]
     },
     "metadata": {},
     "output_type": "display_data"
    }
   ],
   "source": [
    "dt = DecisionTreeClassifier(criterion='gini', max_depth=10)\n",
    "FitAndScore(dt, X_train, X_test, y_train, y_test)"
   ]
  },
  {
   "cell_type": "markdown",
   "metadata": {},
   "source": [
    "This simple decision tree has been really fast to train, and gives already good results. It seems that our tree predicts above-median scoring wines with more ease.\n",
    "\n",
    "Another rather simple classification algorithm would have been kNN. However, given the number of features, this approach would take too long. Instead, we can use a faster approach: a Naive Bayes classifier for multinomial models.\n",
    "\n",
    "It's true that Naive Bayes classification is based on applying Bayes' theorem hypothesizing independence of the features. This condition is probably not fully fulfilled here, but let's try anyway."
   ]
  },
  {
   "cell_type": "code",
   "execution_count": 24,
   "metadata": {},
   "outputs": [
    {
     "name": "stdout",
     "output_type": "stream",
     "text": [
      "Fitting...\n",
      "( 0.59 seconds )\n",
      "\n",
      "Predicting...\n",
      "( 0.16 seconds )\n",
      "\n",
      "Reporting...\n",
      "\n",
      "              precision    recall  f1-score   support\n",
      "\n",
      "           0       0.71      0.68      0.70     15548\n",
      "           1       0.79      0.82      0.81     23444\n",
      "\n",
      "   micro avg       0.76      0.76      0.76     38992\n",
      "   macro avg       0.75      0.75      0.75     38992\n",
      "weighted avg       0.76      0.76      0.76     38992\n",
      " \n",
      "\n",
      "Confusion matrix:\n",
      "\n",
      "[[10598  4950]\n",
      " [ 4252 19192]] \n",
      "\n",
      "Cohen's Kappa score :  0.5040735465092943 \n",
      "\n",
      "AUC score : 0.750\n"
     ]
    },
    {
     "data": {
      "image/png": "[encoded data removed]",
      "text/plain": [
       "<Figure size 432x288 with 1 Axes>"
      ]
     },
     "metadata": {},
     "output_type": "display_data"
    }
   ],
   "source": [
    "#We have negative values, so let's scale everyting between 0 and 1 to use naive bayes classifier\n",
    "mmscaler = MinMaxScaler()\n",
    "X_train_01 = mmscaler.fit_transform(X_train)    #Still no cheating with this scaling\n",
    "X_test_01 = mmscaler.transform(X_test)          \n",
    "\n",
    "nb = MultinomialNB()\n",
    "FitAndScore(nb, X_train_01, X_test_01, y_train, y_test)"
   ]
  },
  {
   "cell_type": "markdown",
   "metadata": {},
   "source": [
    "MultinomialNB was even faster than the simple decision tree classifier, and gives slightly better results. Here again, the model has more trouble predicting low scores (class 0) than high scores (class 1).\n",
    "\n",
    "Let's try if we can get even better results by using SVM with simple linear kernel. If our entries are linearly separable, this should find a relevant hyperplane."
   ]
  },
  {
   "cell_type": "code",
   "execution_count": 25,
   "metadata": {},
   "outputs": [
    {
     "name": "stdout",
     "output_type": "stream",
     "text": [
      "Fitting...\n",
      "[LibLinear]( 82.31 seconds )\n",
      "\n",
      "Predicting...\n",
      "( 0.09 seconds )\n",
      "\n",
      "Reporting...\n",
      "\n",
      "              precision    recall  f1-score   support\n",
      "\n",
      "           0       0.72      0.83      0.77     15548\n",
      "           1       0.87      0.78      0.83     23444\n",
      "\n",
      "   micro avg       0.80      0.80      0.80     38992\n",
      "   macro avg       0.80      0.81      0.80     38992\n",
      "weighted avg       0.81      0.80      0.80     38992\n",
      " \n",
      "\n",
      "Confusion matrix:\n",
      "\n",
      "[[12904  2644]\n",
      " [ 5091 18353]] \n",
      "\n",
      "Cohen's Kappa score :  0.5969683869442327 \n",
      "\n",
      "AUC score : 0.806\n"
     ]
    },
    {
     "data": {
      "image/png": "[encoded data removed]",
      "text/plain": [
       "<Figure size 432x288 with 1 Axes>"
      ]
     },
     "metadata": {},
     "output_type": "display_data"
    }
   ],
   "source": [
    "LSVC = LinearSVC(C=1.0, class_weight=None, dual=False, fit_intercept=False,\n",
    "                 intercept_scaling=1, loss='squared_hinge', max_iter=1000,\n",
    "                 multi_class='ovr', penalty='l2', tol=1e-05, verbose=2)\n",
    "\n",
    "FitAndScore(LSVC, X_train, X_test, y_train, y_test)"
   ]
  },
  {
   "cell_type": "markdown",
   "metadata": {},
   "source": [
    "The results given by SVM with simple linear kernel are even better. Although, it took twice as long as our decision tree classifier, and 100 times longer than the Naive Bayes approach. So depending on the application, the model choice is not necessarily obvious here.\n",
    "\n",
    "Let's try to see if we can get even better result with a Random Forest Classifier with 100 estimators."
   ]
  },
  {
   "cell_type": "code",
   "execution_count": 26,
   "metadata": {},
   "outputs": [
    {
     "name": "stdout",
     "output_type": "stream",
     "text": [
      "Fitting...\n",
      "( 165.78 seconds )\n",
      "\n",
      "Predicting...\n",
      "( 3.19 seconds )\n",
      "\n",
      "Reporting...\n",
      "\n",
      "              precision    recall  f1-score   support\n",
      "\n",
      "           0       0.81      0.73      0.77     15548\n",
      "           1       0.83      0.89      0.86     23444\n",
      "\n",
      "   micro avg       0.83      0.83      0.83     38992\n",
      "   macro avg       0.82      0.81      0.81     38992\n",
      "weighted avg       0.82      0.83      0.82     38992\n",
      " \n",
      "\n",
      "Confusion matrix:\n",
      "\n",
      "[[11308  4240]\n",
      " [ 2576 20868]] \n",
      "\n",
      "Cohen's Kappa score :  0.6287491258258697 \n",
      "\n",
      "AUC score : 0.809\n"
     ]
    },
    {
     "data": {
      "image/png": "[encoded data removed]",
      "text/plain": [
       "<Figure size 432x288 with 1 Axes>"
      ]
     },
     "metadata": {},
     "output_type": "display_data"
    }
   ],
   "source": [
    "rf = RandomForestClassifier(n_estimators = 100, bootstrap=True, n_jobs=-1)\n",
    "FitAndScore(rf, X_train, X_test, y_train, y_test)"
   ]
  },
  {
   "cell_type": "markdown",
   "metadata": {},
   "source": [
    "The results keep getting better ! Sadly, the time needed for training is also mush higher. Here it is still reasonnable due to the relatively low number of trees generated.\n",
    "\n",
    "For this model, let's take a look at the feature importances."
   ]
  },
  {
   "cell_type": "code",
   "execution_count": 27,
   "metadata": {},
   "outputs": [
    {
     "data": {
      "text/plain": [
       "[('Description_Length', 0.0831917569403688),\n",
       " ('flavors', 0.020640564419405764),\n",
       " ('simple', 0.01732999836551781),\n",
       " ('aromas', 0.012064975216124848),\n",
       " ('rich', 0.011901941153140116),\n",
       " ('black', 0.008820285494075429),\n",
       " ('drink', 0.008505697709777472),\n",
       " ('finish', 0.008059641843831043),\n",
       " ('soft', 0.008052117596018512),\n",
       " ('years', 0.007757893242743348),\n",
       " ('ripe', 0.007604818355582405),\n",
       " ('acidity', 0.007451640175634121),\n",
       " ('long', 0.007288435284662756),\n",
       " ('sweet', 0.006950511119708911),\n",
       " ('fruit', 0.006915463522477283),\n",
       " ('light', 0.00684397139163068),\n",
       " ('palate', 0.006395198469940029),\n",
       " ('concentrated', 0.006283835117296858),\n",
       " ('fruity', 0.006078380640879249),\n",
       " ('easy', 0.006013384292289797)]"
      ]
     },
     "execution_count": 27,
     "metadata": {},
     "output_type": "execute_result"
    }
   ],
   "source": [
    "features = CV.vocabulary_\n",
    "features['Description_Length']=1000\n",
    "\n",
    "importances = rf.feature_importances_\n",
    "\n",
    "features_inv = dict([[v,k] for k,v in features.items()]) #Structure {X index:'feature name'}\n",
    "final_features_dict = {} #Structure {'feature name':relative importance}\n",
    "for i in range(len(importances)):\n",
    "    final_features_dict[features_inv[i]] = importances[i]\n",
    "\n",
    "sorted_feature_importance = sorted(final_features_dict.items(), key = lambda kv:[kv[1], kv[0]], reverse=True)\n",
    "sorted_feature_importance[0:20]"
   ]
  },
  {
   "cell_type": "markdown",
   "metadata": {},
   "source": [
    "The most important feature is Description_Length by relatively far.\n",
    "\n",
    "A popular way to increase the results of a Random Forest Classifier is to use Adaboosting. Quoting sklearn's documentation: \"An AdaBoost classifier is a meta-estimator that begins by fitting a classifier on the original dataset and then fits additional copies of the classifier on the same dataset but where the weights of incorrectly classified instances are adjusted such that subsequent classifiers focus more on difficult cases.\"\n",
    "\n",
    "The training of the model will be rather long as it will need to train multiple random forests. To keep that acceptable, we will only use 10 random forests of 100 trees. Better results might be achievable by increasing those numbers, but the training time would be just too long."
   ]
  },
  {
   "cell_type": "code",
   "execution_count": 28,
   "metadata": {},
   "outputs": [
    {
     "name": "stdout",
     "output_type": "stream",
     "text": [
      "Fitting...\n",
      "( 3209.18 seconds )\n",
      "\n",
      "Predicting...\n",
      "( 33.39 seconds )\n",
      "\n",
      "Reporting...\n",
      "\n",
      "              precision    recall  f1-score   support\n",
      "\n",
      "           0       0.84      0.70      0.76     15548\n",
      "           1       0.82      0.91      0.86     23444\n",
      "\n",
      "   micro avg       0.82      0.82      0.82     38992\n",
      "   macro avg       0.83      0.80      0.81     38992\n",
      "weighted avg       0.83      0.82      0.82     38992\n",
      " \n",
      "\n",
      "Confusion matrix:\n",
      "\n",
      "[[10820  4728]\n",
      " [ 2119 21325]] \n",
      "\n",
      "Cohen's Kappa score :  0.623132463397531 \n",
      "\n",
      "AUC score : 0.803\n"
     ]
    },
    {
     "data": {
      "image/png": "[encoded data removed]",
      "text/plain": [
       "<Figure size 432x288 with 1 Axes>"
      ]
     },
     "metadata": {},
     "output_type": "display_data"
    }
   ],
   "source": [
    "clf = RandomForestClassifier(n_estimators=100, n_jobs=-1);\n",
    "bclf = AdaBoostClassifier(base_estimator=clf, n_estimators=10)\n",
    "FitAndScore(bclf, X_train, X_test, y_train, y_test)"
   ]
  },
  {
   "cell_type": "markdown",
   "metadata": {},
   "source": [
    "Surprisingly enough, the Adaboosted Random Forest shows worse results than the simple random forest. Although, it would probably get better with more estimators, but the training would also be much longer, so here again, it all depends on the application.\n",
    "\n",
    "Our last machine learning model will be a simple neural network, a Multi-Layer Perceptron Classifier. Neural networks, when tuned correctly, have the potential to perform better than other models. The problem is that finding the right hyperparameters would require an entire dedicated kernel (or several), and the training time can take some time. So here, I'll just use the MLP classifier with mostly default parameters."
   ]
  },
  {
   "cell_type": "code",
   "execution_count": 29,
   "metadata": {},
   "outputs": [
    {
     "name": "stdout",
     "output_type": "stream",
     "text": [
      "Fitting...\n",
      "Iteration 1, loss = 0.48384536\n",
      "Iteration 2, loss = 0.39732942\n",
      "Iteration 3, loss = 0.39004297\n",
      "Iteration 4, loss = 0.38772081\n",
      "Iteration 5, loss = 0.38685643\n",
      "Iteration 6, loss = 0.38569841\n",
      "Iteration 7, loss = 0.38533636\n",
      "Iteration 8, loss = 0.38445488\n",
      "Iteration 9, loss = 0.38443889\n",
      "Iteration 10, loss = 0.38407863\n",
      "Iteration 11, loss = 0.38352819\n",
      "Iteration 12, loss = 0.38323902\n",
      "Iteration 13, loss = 0.38290065\n",
      "Iteration 14, loss = 0.38234861\n",
      "Iteration 15, loss = 0.38201774\n",
      "Iteration 16, loss = 0.38157544\n",
      "Iteration 17, loss = 0.38147271\n",
      "Iteration 18, loss = 0.38055012\n",
      "Iteration 19, loss = 0.38074692\n",
      "Iteration 20, loss = 0.38008922\n",
      "Iteration 21, loss = 0.37916041\n",
      "Iteration 22, loss = 0.37841628\n",
      "Iteration 23, loss = 0.37758585\n",
      "Iteration 24, loss = 0.37683534\n",
      "Iteration 25, loss = 0.37567234\n",
      "Iteration 26, loss = 0.37441387\n",
      "Iteration 27, loss = 0.37307085\n",
      "Iteration 28, loss = 0.37182788\n",
      "Iteration 29, loss = 0.37050217\n",
      "Iteration 30, loss = 0.36914710\n",
      "Iteration 31, loss = 0.36778966\n",
      "Iteration 32, loss = 0.36603101\n",
      "Iteration 33, loss = 0.36469038\n",
      "Iteration 34, loss = 0.36311986\n",
      "Iteration 35, loss = 0.36144850\n",
      "Iteration 36, loss = 0.36001689\n",
      "Iteration 37, loss = 0.35813005\n",
      "Iteration 38, loss = 0.35642163\n",
      "Iteration 39, loss = 0.35386662\n",
      "Iteration 40, loss = 0.35155215\n",
      "Iteration 41, loss = 0.34865519\n",
      "Iteration 42, loss = 0.34536302\n",
      "Iteration 43, loss = 0.34097993\n",
      "Iteration 44, loss = 0.33568081\n",
      "Iteration 45, loss = 0.32835519\n",
      "Iteration 46, loss = 0.31950038\n",
      "Iteration 47, loss = 0.30738074\n",
      "Iteration 48, loss = 0.29203488\n",
      "Iteration 49, loss = 0.27475272\n",
      "Iteration 50, loss = 0.25635602\n",
      "Iteration 51, loss = 0.23711013\n",
      "Iteration 52, loss = 0.21828251\n",
      "Iteration 53, loss = 0.19891769\n",
      "Iteration 54, loss = 0.18109578\n",
      "Iteration 55, loss = 0.16309360\n",
      "Iteration 56, loss = 0.14667158\n",
      "Iteration 57, loss = 0.13214674\n",
      "Iteration 58, loss = 0.11707526\n",
      "Iteration 59, loss = 0.10404030\n",
      "Iteration 60, loss = 0.09213357\n",
      "Iteration 61, loss = 0.08153266\n",
      "Iteration 62, loss = 0.07163116\n",
      "Iteration 63, loss = 0.06279547\n",
      "Iteration 64, loss = 0.05487397\n",
      "Iteration 65, loss = 0.04815344\n",
      "Iteration 66, loss = 0.04238593\n",
      "Iteration 67, loss = 0.03659184\n",
      "Iteration 68, loss = 0.03172749\n",
      "Iteration 69, loss = 0.02831129\n",
      "Iteration 70, loss = 0.02523057\n",
      "Iteration 71, loss = 0.02163968\n",
      "Iteration 72, loss = 0.01918447\n",
      "Iteration 73, loss = 0.01678699\n",
      "Iteration 74, loss = 0.01558324\n",
      "Iteration 75, loss = 0.01409969\n",
      "Iteration 76, loss = 0.01406971\n",
      "Iteration 77, loss = 0.01139102\n",
      "Iteration 78, loss = 0.01118106\n",
      "Iteration 79, loss = 0.01588115\n",
      "Iteration 80, loss = 0.01057873\n",
      "Iteration 81, loss = 0.00790128\n",
      "Iteration 82, loss = 0.00798255\n",
      "Iteration 83, loss = 0.02942509\n",
      "Iteration 84, loss = 0.01054220\n",
      "Iteration 85, loss = 0.00716483\n",
      "Iteration 86, loss = 0.00709857\n",
      "Iteration 87, loss = 0.00709407\n",
      "Iteration 88, loss = 0.00747404\n",
      "Iteration 89, loss = 0.00756804\n",
      "Iteration 90, loss = 0.00739501\n",
      "Iteration 91, loss = 0.03470174\n",
      "Iteration 92, loss = 0.00676213\n",
      "Iteration 93, loss = 0.00649115\n",
      "Iteration 94, loss = 0.00692903\n",
      "Iteration 95, loss = 0.00711762\n",
      "Iteration 96, loss = 0.00697599\n",
      "Iteration 97, loss = 0.00677121\n",
      "Iteration 98, loss = 0.01145755\n",
      "Iteration 99, loss = 0.02852421\n",
      "Iteration 100, loss = 0.00653972\n",
      "Iteration 101, loss = 0.00652004\n",
      "Iteration 102, loss = 0.00646600\n",
      "Iteration 103, loss = 0.00671148\n",
      "Iteration 104, loss = 0.00686389\n",
      "Iteration 105, loss = 0.00797029\n",
      "Iteration 106, loss = 0.02746782\n",
      "Iteration 107, loss = 0.00627692\n",
      "Iteration 108, loss = 0.00668706\n",
      "Iteration 109, loss = 0.00649116\n",
      "Iteration 110, loss = 0.00663809\n",
      "Iteration 111, loss = 0.00675597\n",
      "Iteration 112, loss = 0.00662620\n",
      "Iteration 113, loss = 0.03238145\n",
      "Iteration 114, loss = 0.00907470\n",
      "Iteration 115, loss = 0.00636454\n",
      "Iteration 116, loss = 0.00634574\n",
      "Iteration 117, loss = 0.00638533\n",
      "Iteration 118, loss = 0.00632375\n",
      "Training loss did not improve more than tol=0.000010 for 10 consecutive epochs. Stopping.\n",
      "( 3132.97 seconds )\n",
      "\n",
      "Predicting...\n",
      "( 3.16 seconds )\n",
      "\n",
      "Reporting...\n",
      "\n",
      "              precision    recall  f1-score   support\n",
      "\n",
      "           0       0.80      0.79      0.79     15548\n",
      "           1       0.86      0.87      0.86     23444\n",
      "\n",
      "   micro avg       0.84      0.84      0.84     38992\n",
      "   macro avg       0.83      0.83      0.83     38992\n",
      "weighted avg       0.84      0.84      0.84     38992\n",
      " \n",
      "\n",
      "Confusion matrix:\n",
      "\n",
      "[[12252  3296]\n",
      " [ 3082 20362]] \n",
      "\n",
      "Cohen's Kappa score :  0.6580744274828052 \n",
      "\n",
      "AUC score : 0.828\n"
     ]
    },
    {
     "data": {
      "image/png": "[encoded data removed]",
      "text/plain": [
       "<Figure size 432x288 with 1 Axes>"
      ]
     },
     "metadata": {},
     "output_type": "display_data"
    }
   ],
   "source": [
    "mlp = MLPClassifier(activation='logistic', alpha=1e-03, batch_size='auto',\\\n",
    "                    beta_1=0.9, beta_2=0.999, early_stopping=False,\\\n",
    "                    epsilon=1e-08, hidden_layer_sizes=(600,400),\\\n",
    "                    learning_rate='constant', learning_rate_init=0.0001,\\\n",
    "                    max_iter=200, momentum=0.9, n_iter_no_change=10,\\\n",
    "                    nesterovs_momentum=True, power_t=0.5,\\\n",
    "                    shuffle=True, solver='adam', tol=0.00001,\\\n",
    "                    validation_fraction=0.1, verbose=True, warm_start=False)\n",
    "\n",
    "FitAndScore(mlp, X_train, X_test, y_train, y_test)"
   ]
  },
  {
   "cell_type": "markdown",
   "metadata": {},
   "source": [
    "Our neural network gives slightly better results than other models. But its training took A LOT of time. It might or might not be worth it depending on the application.\n",
    "\n",
    "Once again, it's highly probable that with better hyperparameters, we could get even better results."
   ]
  },
  {
   "cell_type": "markdown",
   "metadata": {},
   "source": [
    "## 6. Conclusion\n",
    "\n",
    "In this kernel, we analyzed the Description and Score of wines from the dataset. We found out that the distribution of the number of words in a description is very close to a gamma distribution, except it has a bigger right tail. We also found that short descriptions are usually given to bad wines.\n",
    "\n",
    "Then, using elementary text mining techniques, we transformed the wines descriptions into a matrix containing 1001 features. Thanks to machine learning algorithms, we used this matrix to predict the adequate score corresponding to the description.\n",
    "\n",
    "The best performing model \"out of the box\" was a simple random forest with 100 estimators. The most important feature it used was the description length. Its training took around 3 minutes. Of course it's possible to get even better results by tuning the hyperparameters used with GridSearchCV, RandomizedSearchCV, or even a fully automatized approach like tpot.\n",
    "\n",
    "Thanks a lot for taking the time to read this kernel !\n"
   ]
  }
 ],
 "metadata": {
  "kernelspec": {
   "display_name": "Python 3",
   "language": "python",
   "name": "python3"
  },
  "language_info": {
   "codemirror_mode": {
    "name": "ipython",
    "version": 3
   },
   "file_extension": ".py",
   "mimetype": "text/x-python",
   "name": "python",
   "nbconvert_exporter": "python",
   "pygments_lexer": "ipython3",
   "version": "3.7.1"
  }
 },
 "nbformat": 4,
 "nbformat_minor": 1
}
