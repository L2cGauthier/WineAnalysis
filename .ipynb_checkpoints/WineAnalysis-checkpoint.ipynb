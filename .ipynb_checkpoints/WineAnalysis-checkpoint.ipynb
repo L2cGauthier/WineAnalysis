{
 "cells": [
  {
   "cell_type": "markdown",
   "metadata": {},
   "source": [
    "# Import all the good things"
   ]
  },
  {
   "cell_type": "code",
   "execution_count": 1,
   "metadata": {},
   "outputs": [],
   "source": [
    "#Easy data manipulation\n",
    "import pandas as pd\n",
    "import numpy as np\n",
    "\n",
    "#Plotting\n",
    "import seaborn as sns\n",
    "sns.set()\n",
    "import matplotlib.pyplot as plt\n",
    "\n",
    "#Who likes warnings anyway?\n",
    "import warnings\n",
    "warnings.filterwarnings('ignore')\n",
    "\n",
    "import joblib\n",
    "import xgboost\n",
    "\n",
    "#Fill missing values\n",
    "from sklearn.impute import SimpleImputer\n",
    "\n",
    "from sklearn.model_selection import GridSearchCV, cross_val_score, train_test_split, KFold\n",
    "from sklearn.preprocessing import StandardScaler\n",
    "\n",
    "from tpot import TPOTClassifier\n",
    "\n",
    "#Text Mining\n",
    "from sklearn.feature_extraction import stop_words\n",
    "from sklearn.feature_extraction.text import CountVectorizer, TfidfTransformer\n",
    "from sklearn.decomposition import TruncatedSVD #PCA equivalent for sparse matrices\n",
    "from sklearn.feature_extraction import text #Allow stop_words customization"
   ]
  },
  {
   "cell_type": "markdown",
   "metadata": {},
   "source": [
    "# First look at the data set"
   ]
  },
  {
   "cell_type": "code",
   "execution_count": 2,
   "metadata": {},
   "outputs": [],
   "source": [
    "df = pd.read_csv('winemag-data-130k-v2.csv')"
   ]
  },
  {
   "cell_type": "code",
   "execution_count": 3,
   "metadata": {},
   "outputs": [
    {
     "data": {
      "text/html": [
       "<div>\n",
       "<style scoped>\n",
       "    .dataframe tbody tr th:only-of-type {\n",
       "        vertical-align: middle;\n",
       "    }\n",
       "\n",
       "    .dataframe tbody tr th {\n",
       "        vertical-align: top;\n",
       "    }\n",
       "\n",
       "    .dataframe thead th {\n",
       "        text-align: right;\n",
       "    }\n",
       "</style>\n",
       "<table border=\"1\" class=\"dataframe\">\n",
       "  <thead>\n",
       "    <tr style=\"text-align: right;\">\n",
       "      <th></th>\n",
       "      <th>Unnamed: 0</th>\n",
       "      <th>country</th>\n",
       "      <th>description</th>\n",
       "      <th>designation</th>\n",
       "      <th>points</th>\n",
       "      <th>price</th>\n",
       "      <th>province</th>\n",
       "      <th>region_1</th>\n",
       "      <th>region_2</th>\n",
       "      <th>taster_name</th>\n",
       "      <th>taster_twitter_handle</th>\n",
       "      <th>title</th>\n",
       "      <th>variety</th>\n",
       "      <th>winery</th>\n",
       "    </tr>\n",
       "  </thead>\n",
       "  <tbody>\n",
       "    <tr>\n",
       "      <th>0</th>\n",
       "      <td>0</td>\n",
       "      <td>Italy</td>\n",
       "      <td>Aromas include tropical fruit, broom, brimston...</td>\n",
       "      <td>Vulkà Bianco</td>\n",
       "      <td>87</td>\n",
       "      <td>NaN</td>\n",
       "      <td>Sicily &amp; Sardinia</td>\n",
       "      <td>Etna</td>\n",
       "      <td>NaN</td>\n",
       "      <td>Kerin O’Keefe</td>\n",
       "      <td>@kerinokeefe</td>\n",
       "      <td>Nicosia 2013 Vulkà Bianco  (Etna)</td>\n",
       "      <td>White Blend</td>\n",
       "      <td>Nicosia</td>\n",
       "    </tr>\n",
       "    <tr>\n",
       "      <th>1</th>\n",
       "      <td>1</td>\n",
       "      <td>Portugal</td>\n",
       "      <td>This is ripe and fruity, a wine that is smooth...</td>\n",
       "      <td>Avidagos</td>\n",
       "      <td>87</td>\n",
       "      <td>15.0</td>\n",
       "      <td>Douro</td>\n",
       "      <td>NaN</td>\n",
       "      <td>NaN</td>\n",
       "      <td>Roger Voss</td>\n",
       "      <td>@vossroger</td>\n",
       "      <td>Quinta dos Avidagos 2011 Avidagos Red (Douro)</td>\n",
       "      <td>Portuguese Red</td>\n",
       "      <td>Quinta dos Avidagos</td>\n",
       "    </tr>\n",
       "    <tr>\n",
       "      <th>2</th>\n",
       "      <td>2</td>\n",
       "      <td>US</td>\n",
       "      <td>Tart and snappy, the flavors of lime flesh and...</td>\n",
       "      <td>NaN</td>\n",
       "      <td>87</td>\n",
       "      <td>14.0</td>\n",
       "      <td>Oregon</td>\n",
       "      <td>Willamette Valley</td>\n",
       "      <td>Willamette Valley</td>\n",
       "      <td>Paul Gregutt</td>\n",
       "      <td>@paulgwine</td>\n",
       "      <td>Rainstorm 2013 Pinot Gris (Willamette Valley)</td>\n",
       "      <td>Pinot Gris</td>\n",
       "      <td>Rainstorm</td>\n",
       "    </tr>\n",
       "    <tr>\n",
       "      <th>3</th>\n",
       "      <td>3</td>\n",
       "      <td>US</td>\n",
       "      <td>Pineapple rind, lemon pith and orange blossom ...</td>\n",
       "      <td>Reserve Late Harvest</td>\n",
       "      <td>87</td>\n",
       "      <td>13.0</td>\n",
       "      <td>Michigan</td>\n",
       "      <td>Lake Michigan Shore</td>\n",
       "      <td>NaN</td>\n",
       "      <td>Alexander Peartree</td>\n",
       "      <td>NaN</td>\n",
       "      <td>St. Julian 2013 Reserve Late Harvest Riesling ...</td>\n",
       "      <td>Riesling</td>\n",
       "      <td>St. Julian</td>\n",
       "    </tr>\n",
       "    <tr>\n",
       "      <th>4</th>\n",
       "      <td>4</td>\n",
       "      <td>US</td>\n",
       "      <td>Much like the regular bottling from 2012, this...</td>\n",
       "      <td>Vintner's Reserve Wild Child Block</td>\n",
       "      <td>87</td>\n",
       "      <td>65.0</td>\n",
       "      <td>Oregon</td>\n",
       "      <td>Willamette Valley</td>\n",
       "      <td>Willamette Valley</td>\n",
       "      <td>Paul Gregutt</td>\n",
       "      <td>@paulgwine</td>\n",
       "      <td>Sweet Cheeks 2012 Vintner's Reserve Wild Child...</td>\n",
       "      <td>Pinot Noir</td>\n",
       "      <td>Sweet Cheeks</td>\n",
       "    </tr>\n",
       "  </tbody>\n",
       "</table>\n",
       "</div>"
      ],
      "text/plain": [
       "   Unnamed: 0   country                                        description  \\\n",
       "0           0     Italy  Aromas include tropical fruit, broom, brimston...   \n",
       "1           1  Portugal  This is ripe and fruity, a wine that is smooth...   \n",
       "2           2        US  Tart and snappy, the flavors of lime flesh and...   \n",
       "3           3        US  Pineapple rind, lemon pith and orange blossom ...   \n",
       "4           4        US  Much like the regular bottling from 2012, this...   \n",
       "\n",
       "                          designation  points  price           province  \\\n",
       "0                        Vulkà Bianco      87    NaN  Sicily & Sardinia   \n",
       "1                            Avidagos      87   15.0              Douro   \n",
       "2                                 NaN      87   14.0             Oregon   \n",
       "3                Reserve Late Harvest      87   13.0           Michigan   \n",
       "4  Vintner's Reserve Wild Child Block      87   65.0             Oregon   \n",
       "\n",
       "              region_1           region_2         taster_name  \\\n",
       "0                 Etna                NaN       Kerin O’Keefe   \n",
       "1                  NaN                NaN          Roger Voss   \n",
       "2    Willamette Valley  Willamette Valley        Paul Gregutt   \n",
       "3  Lake Michigan Shore                NaN  Alexander Peartree   \n",
       "4    Willamette Valley  Willamette Valley        Paul Gregutt   \n",
       "\n",
       "  taster_twitter_handle                                              title  \\\n",
       "0          @kerinokeefe                  Nicosia 2013 Vulkà Bianco  (Etna)   \n",
       "1            @vossroger      Quinta dos Avidagos 2011 Avidagos Red (Douro)   \n",
       "2           @paulgwine       Rainstorm 2013 Pinot Gris (Willamette Valley)   \n",
       "3                   NaN  St. Julian 2013 Reserve Late Harvest Riesling ...   \n",
       "4           @paulgwine   Sweet Cheeks 2012 Vintner's Reserve Wild Child...   \n",
       "\n",
       "          variety               winery  \n",
       "0     White Blend              Nicosia  \n",
       "1  Portuguese Red  Quinta dos Avidagos  \n",
       "2      Pinot Gris            Rainstorm  \n",
       "3        Riesling           St. Julian  \n",
       "4      Pinot Noir         Sweet Cheeks  "
      ]
     },
     "execution_count": 3,
     "metadata": {},
     "output_type": "execute_result"
    }
   ],
   "source": [
    "df.head(5)"
   ]
  },
  {
   "cell_type": "code",
   "execution_count": 4,
   "metadata": {},
   "outputs": [
    {
     "data": {
      "text/plain": [
       "(129971, 14)"
      ]
     },
     "execution_count": 4,
     "metadata": {},
     "output_type": "execute_result"
    }
   ],
   "source": [
    "df.shape"
   ]
  },
  {
   "cell_type": "code",
   "execution_count": 5,
   "metadata": {},
   "outputs": [
    {
     "data": {
      "text/html": [
       "<div>\n",
       "<style scoped>\n",
       "    .dataframe tbody tr th:only-of-type {\n",
       "        vertical-align: middle;\n",
       "    }\n",
       "\n",
       "    .dataframe tbody tr th {\n",
       "        vertical-align: top;\n",
       "    }\n",
       "\n",
       "    .dataframe thead th {\n",
       "        text-align: right;\n",
       "    }\n",
       "</style>\n",
       "<table border=\"1\" class=\"dataframe\">\n",
       "  <thead>\n",
       "    <tr style=\"text-align: right;\">\n",
       "      <th></th>\n",
       "      <th>Unnamed: 0</th>\n",
       "      <th>points</th>\n",
       "      <th>price</th>\n",
       "    </tr>\n",
       "  </thead>\n",
       "  <tbody>\n",
       "    <tr>\n",
       "      <th>count</th>\n",
       "      <td>129971.000000</td>\n",
       "      <td>129971.000000</td>\n",
       "      <td>120975.000000</td>\n",
       "    </tr>\n",
       "    <tr>\n",
       "      <th>mean</th>\n",
       "      <td>64985.000000</td>\n",
       "      <td>88.447138</td>\n",
       "      <td>35.363389</td>\n",
       "    </tr>\n",
       "    <tr>\n",
       "      <th>std</th>\n",
       "      <td>37519.540256</td>\n",
       "      <td>3.039730</td>\n",
       "      <td>41.022218</td>\n",
       "    </tr>\n",
       "    <tr>\n",
       "      <th>min</th>\n",
       "      <td>0.000000</td>\n",
       "      <td>80.000000</td>\n",
       "      <td>4.000000</td>\n",
       "    </tr>\n",
       "    <tr>\n",
       "      <th>25%</th>\n",
       "      <td>32492.500000</td>\n",
       "      <td>86.000000</td>\n",
       "      <td>17.000000</td>\n",
       "    </tr>\n",
       "    <tr>\n",
       "      <th>50%</th>\n",
       "      <td>64985.000000</td>\n",
       "      <td>88.000000</td>\n",
       "      <td>25.000000</td>\n",
       "    </tr>\n",
       "    <tr>\n",
       "      <th>75%</th>\n",
       "      <td>97477.500000</td>\n",
       "      <td>91.000000</td>\n",
       "      <td>42.000000</td>\n",
       "    </tr>\n",
       "    <tr>\n",
       "      <th>max</th>\n",
       "      <td>129970.000000</td>\n",
       "      <td>100.000000</td>\n",
       "      <td>3300.000000</td>\n",
       "    </tr>\n",
       "  </tbody>\n",
       "</table>\n",
       "</div>"
      ],
      "text/plain": [
       "          Unnamed: 0         points          price\n",
       "count  129971.000000  129971.000000  120975.000000\n",
       "mean    64985.000000      88.447138      35.363389\n",
       "std     37519.540256       3.039730      41.022218\n",
       "min         0.000000      80.000000       4.000000\n",
       "25%     32492.500000      86.000000      17.000000\n",
       "50%     64985.000000      88.000000      25.000000\n",
       "75%     97477.500000      91.000000      42.000000\n",
       "max    129970.000000     100.000000    3300.000000"
      ]
     },
     "execution_count": 5,
     "metadata": {},
     "output_type": "execute_result"
    }
   ],
   "source": [
    "df.describe()"
   ]
  },
  {
   "cell_type": "code",
   "execution_count": 6,
   "metadata": {},
   "outputs": [
    {
     "name": "stdout",
     "output_type": "stream",
     "text": [
      "<class 'pandas.core.frame.DataFrame'>\n",
      "RangeIndex: 129971 entries, 0 to 129970\n",
      "Data columns (total 14 columns):\n",
      "Unnamed: 0               129971 non-null int64\n",
      "country                  129908 non-null object\n",
      "description              129971 non-null object\n",
      "designation              92506 non-null object\n",
      "points                   129971 non-null int64\n",
      "price                    120975 non-null float64\n",
      "province                 129908 non-null object\n",
      "region_1                 108724 non-null object\n",
      "region_2                 50511 non-null object\n",
      "taster_name              103727 non-null object\n",
      "taster_twitter_handle    98758 non-null object\n",
      "title                    129971 non-null object\n",
      "variety                  129970 non-null object\n",
      "winery                   129971 non-null object\n",
      "dtypes: float64(1), int64(2), object(11)\n",
      "memory usage: 13.9+ MB\n"
     ]
    }
   ],
   "source": [
    "df.info()"
   ]
  },
  {
   "cell_type": "markdown",
   "metadata": {},
   "source": [
    "There are a lot of missing values, we will drop rows where point or price are missing. Other missing values will be handeld depending on the specific cases."
   ]
  },
  {
   "cell_type": "code",
   "execution_count": 7,
   "metadata": {},
   "outputs": [
    {
     "data": {
      "text/plain": [
       "(120975, 14)"
      ]
     },
     "execution_count": 7,
     "metadata": {},
     "output_type": "execute_result"
    }
   ],
   "source": [
    "df.dropna(axis=0, how='any', thresh=None, subset=['points', 'price'], inplace=True)\n",
    "df.shape"
   ]
  },
  {
   "cell_type": "markdown",
   "metadata": {},
   "source": [
    "We dropped around 9k rows with missing values in either the points or price features."
   ]
  },
  {
   "cell_type": "markdown",
   "metadata": {},
   "source": [
    "# Basic representation of the data set"
   ]
  },
  {
   "cell_type": "markdown",
   "metadata": {},
   "source": [
    "Scatter plot of the wine's price with respect to its score, and their respective marginal density."
   ]
  },
  {
   "cell_type": "code",
   "execution_count": 8,
   "metadata": {},
   "outputs": [
    {
     "data": {
      "text/plain": [
       "<seaborn.axisgrid.JointGrid at 0x1e269f79b00>"
      ]
     },
     "execution_count": 8,
     "metadata": {},
     "output_type": "execute_result"
    },
    {
     "data": {
      "image/png": "[encoded data removed]",
      "text/plain": [
       "<Figure size 432x432 with 3 Axes>"
      ]
     },
     "metadata": {
      "needs_background": "light"
     },
     "output_type": "display_data"
    }
   ],
   "source": [
    "sns.jointplot(x=\"points\", y=\"price\", data=df, )"
   ]
  },
  {
   "cell_type": "markdown",
   "metadata": {},
   "source": [
    "Box plot of the points feature. Scores range from 80 to 100."
   ]
  },
  {
   "cell_type": "code",
   "execution_count": 9,
   "metadata": {},
   "outputs": [
    {
     "data": {
      "text/plain": [
       "<matplotlib.axes._subplots.AxesSubplot at 0x1e2636d5a58>"
      ]
     },
     "execution_count": 9,
     "metadata": {},
     "output_type": "execute_result"
    },
    {
     "data": {
      "image/png": "[encoded data removed]",
      "text/plain": [
       "<Figure size 432x288 with 1 Axes>"
      ]
     },
     "metadata": {
      "needs_background": "light"
     },
     "output_type": "display_data"
    }
   ],
   "source": [
    "sns.boxplot(x=[\"points\"], data=df)"
   ]
  },
  {
   "cell_type": "markdown",
   "metadata": {},
   "source": [
    "We plot the same thing for the price feature. This time, for readability, we have to use a log scale. Where the wine score is bounded and has very few outliers, the price feature has an important range, numerous outliers with wines wort thousands of euros."
   ]
  },
  {
   "cell_type": "code",
   "execution_count": 10,
   "metadata": {},
   "outputs": [
    {
     "data": {
      "image/png": "[encoded data removed]",
      "text/plain": [
       "<Figure size 432x288 with 1 Axes>"
      ]
     },
     "metadata": {
      "needs_background": "light"
     },
     "output_type": "display_data"
    }
   ],
   "source": [
    "priceBoxPlot = sns.boxplot(x=[\"price\"], data=df)\n",
    "priceBoxPlot.figure.get_axes()[0].set_xscale('log')"
   ]
  },
  {
   "cell_type": "markdown",
   "metadata": {},
   "source": [
    "Now, let's take a look at the correlation between price and score. We can expect it to be highly correlated as expensive wine should be better. Of course, the first scatter plot tends to show that it's not that obvious already."
   ]
  },
  {
   "cell_type": "code",
   "execution_count": 11,
   "metadata": {},
   "outputs": [
    {
     "data": {
      "text/plain": [
       "array([[1.        , 0.41616674],\n",
       "       [0.41616674, 1.        ]])"
      ]
     },
     "execution_count": 11,
     "metadata": {},
     "output_type": "execute_result"
    }
   ],
   "source": [
    "np.corrcoef(df[\"price\"], df[\"points\"])"
   ]
  },
  {
   "cell_type": "markdown",
   "metadata": {},
   "source": [
    "The correlation between price and score is positive, albeit weaker than expected."
   ]
  },
  {
   "cell_type": "markdown",
   "metadata": {},
   "source": [
    "# Text mining: can we predict the score of a wine based on the review ?"
   ]
  },
  {
   "cell_type": "markdown",
   "metadata": {},
   "source": [
    "First, let's put our text reviews in the corpus variable, and the variable we want to predict, the wine's score in Y. Then, we discretize the wine's score into 4 categories to make it a classification problem."
   ]
  },
  {
   "cell_type": "code",
   "execution_count": 12,
   "metadata": {},
   "outputs": [],
   "source": [
    "corpus = df[\"description\"].values\n",
    "Y = df[\"points\"].values\n",
    "\n",
    "#Discretization\n",
    "Y[Y<85]=0\n",
    "Y[Y<90]=1\n",
    "Y[Y<95]=2\n",
    "Y[Y<=100]=3\n",
    "\n",
    "#Re-type Y as int\n",
    "Y=Y.astype(int)"
   ]
  },
  {
   "cell_type": "markdown",
   "metadata": {},
   "source": [
    "### Bag of Words using CountVectorizer"
   ]
  },
  {
   "cell_type": "code",
   "execution_count": 13,
   "metadata": {},
   "outputs": [
    {
     "data": {
      "text/plain": [
       "{'ripe': 299,\n",
       " 'fruity': 159,\n",
       " 'smooth': 326,\n",
       " 'structured': 340,\n",
       " 'firm': 138,\n",
       " 'tannins': 352,\n",
       " 'juicy': 193,\n",
       " 'red': 293,\n",
       " 'berry': 36,\n",
       " 'fruits': 158,\n",
       " 'acidity': 4,\n",
       " 'better': 38,\n",
       " 'tart': 353,\n",
       " 'flavors': 141,\n",
       " 'lime': 208,\n",
       " 'green': 171,\n",
       " 'pineapple': 265,\n",
       " 'crisp': 97,\n",
       " 'fermented': 133,\n",
       " 'lemon': 201,\n",
       " 'orange': 252,\n",
       " 'blossom': 47,\n",
       " 'aromas': 22,\n",
       " 'palate': 256,\n",
       " 'bit': 40,\n",
       " 'notes': 243,\n",
       " 'honey': 183,\n",
       " 'giving': 162,\n",
       " 'way': 385,\n",
       " 'slightly': 322,\n",
       " 'astringent': 24,\n",
       " 'finish': 135,\n",
       " 'like': 207,\n",
       " 'bottling': 55,\n",
       " 'comes': 88,\n",
       " 'tannic': 350,\n",
       " 'rustic': 306,\n",
       " 'earthy': 120,\n",
       " 'herbal': 178,\n",
       " 'good': 164,\n",
       " 'blackberry': 44,\n",
       " 'raspberry': 290,\n",
       " 'whiff': 388,\n",
       " 'herbs': 179,\n",
       " 'mouth': 233,\n",
       " 'bodied': 50,\n",
       " 'spicy': 334,\n",
       " 'dark': 102,\n",
       " 'plum': 270,\n",
       " 'fruit': 156,\n",
       " 'fresh': 154,\n",
       " 'bright': 57,\n",
       " 'opens': 251,\n",
       " 'candied': 63,\n",
       " 'white': 389,\n",
       " 'pepper': 260,\n",
       " 'savory': 310,\n",
       " 'herb': 177,\n",
       " 'carry': 65,\n",
       " 'balanced': 30,\n",
       " 'soft': 327,\n",
       " 'dry': 117,\n",
       " 'offers': 247,\n",
       " 'spice': 332,\n",
       " 'texture': 357,\n",
       " 'food': 148,\n",
       " 'dried': 113,\n",
       " 'peach': 257,\n",
       " 'brisk': 59,\n",
       " 'elegant': 124,\n",
       " 'great': 170,\n",
       " 'depth': 108,\n",
       " 'flavor': 139,\n",
       " 'apple': 18,\n",
       " 'pear': 258,\n",
       " 'touch': 368,\n",
       " 'drink': 114,\n",
       " 'supple': 344,\n",
       " 'oaky': 245,\n",
       " 'structure': 339,\n",
       " 'cabernet': 62,\n",
       " 'merlot': 224,\n",
       " 'coffee': 84,\n",
       " 'chocolate': 74,\n",
       " 'finishing': 137,\n",
       " 'strong': 338,\n",
       " 'end': 125,\n",
       " 'attractive': 25,\n",
       " 'tight': 359,\n",
       " 'mineral': 227,\n",
       " 'character': 69,\n",
       " 'layered': 195,\n",
       " 'citrus': 77,\n",
       " 'aftertaste': 8,\n",
       " 'rich': 295,\n",
       " 'black': 42,\n",
       " 'cherry': 72,\n",
       " 'accented': 0,\n",
       " 'oak': 244,\n",
       " 'years': 395,\n",
       " 'winery': 391,\n",
       " 'style': 341,\n",
       " 'classic': 79,\n",
       " 'aroma': 21,\n",
       " 'cut': 101,\n",
       " 'zesty': 399,\n",
       " 'riesling': 297,\n",
       " 'racy': 287,\n",
       " 'lean': 199,\n",
       " 'refreshing': 294,\n",
       " 'easy': 121,\n",
       " 'baked': 27,\n",
       " 'set': 313,\n",
       " 'tobacco': 365,\n",
       " 'peppery': 261,\n",
       " 'accents': 1,\n",
       " 'weight': 386,\n",
       " 'balance': 29,\n",
       " 'raw': 291,\n",
       " 'simple': 319,\n",
       " 'feel': 131,\n",
       " 'time': 361,\n",
       " 'driven': 116,\n",
       " 'finishes': 136,\n",
       " 'leather': 200,\n",
       " 'wood': 393,\n",
       " 'mint': 229,\n",
       " 'nose': 241,\n",
       " 'clove': 82,\n",
       " 'based': 32,\n",
       " 'crushed': 98,\n",
       " 'blend': 46,\n",
       " 'sauvignon': 309,\n",
       " 'franc': 152,\n",
       " 'ready': 292,\n",
       " 'berries': 35,\n",
       " 'ample': 15,\n",
       " 'toasted': 363,\n",
       " 'vanilla': 372,\n",
       " 'dusty': 118,\n",
       " 'currant': 99,\n",
       " 'offering': 246,\n",
       " 'mix': 230,\n",
       " 'hint': 181,\n",
       " 'pinot': 267,\n",
       " 'aged': 10,\n",
       " 'months': 232,\n",
       " 'delicate': 104,\n",
       " 'flower': 144,\n",
       " 'alongside': 14,\n",
       " 'sour': 331,\n",
       " 'plums': 272,\n",
       " 'just': 194,\n",
       " 'cherries': 71,\n",
       " 'midpalate': 225,\n",
       " 'licorice': 204,\n",
       " 'prune': 282,\n",
       " 'toast': 362,\n",
       " 'roasted': 301,\n",
       " 'provide': 281,\n",
       " 'earth': 119,\n",
       " 'wet': 387,\n",
       " 'forest': 149,\n",
       " 'vineyard': 379,\n",
       " 'high': 180,\n",
       " 'intense': 187,\n",
       " 'smoky': 325,\n",
       " 'pretty': 277,\n",
       " 'yellow': 396,\n",
       " 'stone': 335,\n",
       " 'lead': 197,\n",
       " 'apricot': 20,\n",
       " 'lightly': 206,\n",
       " 'espresso': 127,\n",
       " 'round': 304,\n",
       " 'soon': 330,\n",
       " 'mature': 220,\n",
       " 'anise': 16,\n",
       " 'cocoa': 83,\n",
       " 'blanc': 45,\n",
       " 'vineyards': 380,\n",
       " 'sweetness': 346,\n",
       " 'sugar': 343,\n",
       " 'straightforward': 336,\n",
       " 'currants': 100,\n",
       " 'spices': 333,\n",
       " 'shows': 317,\n",
       " 'new': 237,\n",
       " 'tropical': 370,\n",
       " 'leaf': 198,\n",
       " 'somewhat': 329,\n",
       " 'ripeness': 300,\n",
       " 'sweet': 345,\n",
       " 'bouquet': 56,\n",
       " 'chunky': 75,\n",
       " 'melon': 223,\n",
       " 'viognier': 382,\n",
       " 'warm': 384,\n",
       " 'plump': 271,\n",
       " 'short': 315,\n",
       " 'chardonnay': 70,\n",
       " 'concentrated': 91,\n",
       " 'meat': 221,\n",
       " 'bold': 52,\n",
       " 'chewy': 73,\n",
       " 'color': 86,\n",
       " 'jam': 190,\n",
       " 'grapes': 168,\n",
       " 'quality': 285,\n",
       " 'nice': 238,\n",
       " 'grape': 166,\n",
       " 'expression': 130,\n",
       " 'note': 242,\n",
       " 'backed': 26,\n",
       " 'almond': 13,\n",
       " 'touches': 369,\n",
       " 'brings': 58,\n",
       " 'clean': 80,\n",
       " 'mouthfeel': 234,\n",
       " 'gives': 161,\n",
       " 'pair': 255,\n",
       " 'grapefruit': 167,\n",
       " 'cola': 85,\n",
       " 'tangy': 349,\n",
       " 'delivers': 106,\n",
       " 'right': 298,\n",
       " 'caramel': 64,\n",
       " 'petit': 263,\n",
       " 'verdot': 376,\n",
       " 'tones': 367,\n",
       " 'followed': 147,\n",
       " 'adds': 7,\n",
       " 'fleshy': 142,\n",
       " 'plenty': 269,\n",
       " 'generous': 160,\n",
       " 'richness': 296,\n",
       " 'open': 250,\n",
       " 'hard': 175,\n",
       " 'feels': 132,\n",
       " 'long': 212,\n",
       " 'length': 203,\n",
       " 'does': 111,\n",
       " 'fine': 134,\n",
       " 'textured': 358,\n",
       " 'pink': 266,\n",
       " 'buttered': 60,\n",
       " 'creamy': 96,\n",
       " 'medium': 222,\n",
       " 'body': 51,\n",
       " 'glass': 163,\n",
       " 'strawberry': 337,\n",
       " 'light': 205,\n",
       " 'cranberry': 95,\n",
       " 'barrel': 31,\n",
       " 'variety': 374,\n",
       " 'dense': 107,\n",
       " 'jammy': 191,\n",
       " 'graphite': 169,\n",
       " 'cedar': 67,\n",
       " 'best': 37,\n",
       " 'noir': 240,\n",
       " 'sip': 320,\n",
       " 'quite': 286,\n",
       " 'vintage': 381,\n",
       " 'rounded': 305,\n",
       " 'young': 397,\n",
       " 'deep': 103,\n",
       " 'packed': 254,\n",
       " 'blueberry': 49,\n",
       " 'grilled': 173,\n",
       " 'smoke': 324,\n",
       " 'big': 39,\n",
       " 'pleasant': 268,\n",
       " 'tannin': 351,\n",
       " 'producer': 280,\n",
       " 'add': 6,\n",
       " 'overall': 253,\n",
       " 'sense': 312,\n",
       " 'malbec': 219,\n",
       " 'integrated': 186,\n",
       " 'tangerine': 348,\n",
       " 'juice': 192,\n",
       " 'heavy': 176,\n",
       " 'lot': 213,\n",
       " 'hints': 182,\n",
       " 'intensity': 188,\n",
       " 'mocha': 231,\n",
       " 'citrusy': 78,\n",
       " 'vibrant': 377,\n",
       " 'flowers': 145,\n",
       " 'french': 153,\n",
       " 'sangiovese': 308,\n",
       " 'close': 81,\n",
       " 'tastes': 355,\n",
       " 'showing': 316,\n",
       " 'grown': 174,\n",
       " 'bordeaux': 53,\n",
       " 'freshness': 155,\n",
       " 'drinking': 115,\n",
       " 'baking': 28,\n",
       " 'appellation': 17,\n",
       " 'potential': 274,\n",
       " 'apples': 19,\n",
       " 'violet': 383,\n",
       " 'grained': 165,\n",
       " 'core': 94,\n",
       " 'nectarine': 235,\n",
       " 'mild': 226,\n",
       " 'acidic': 3,\n",
       " 'acid': 2,\n",
       " 'subtle': 342,\n",
       " 'cinnamon': 76,\n",
       " 'zest': 398,\n",
       " 'polished': 273,\n",
       " 'lots': 214,\n",
       " 'make': 217,\n",
       " 'silky': 318,\n",
       " 'produced': 279,\n",
       " 'vines': 378,\n",
       " 'solid': 328,\n",
       " 'wines': 392,\n",
       " 'varietal': 373,\n",
       " 'bottle': 54,\n",
       " 'enjoy': 126,\n",
       " 'fragrant': 151,\n",
       " 'wild': 390,\n",
       " 'sharp': 314,\n",
       " 'rose': 302,\n",
       " 'minerality': 228,\n",
       " 'tightly': 360,\n",
       " 'complex': 89,\n",
       " 'focused': 146,\n",
       " 'lingering': 209,\n",
       " 'little': 210,\n",
       " 'valley': 371,\n",
       " 'pie': 264,\n",
       " 'toasty': 364,\n",
       " 'alcohol': 12,\n",
       " 'blackberries': 43,\n",
       " 'cassis': 66,\n",
       " 'lovely': 215,\n",
       " 'powerful': 276,\n",
       " 'floral': 143,\n",
       " 'sage': 307,\n",
       " 'layers': 196,\n",
       " 'olive': 249,\n",
       " 'beautifully': 34,\n",
       " 'interesting': 189,\n",
       " 'needs': 236,\n",
       " 'impressive': 185,\n",
       " 'estate': 128,\n",
       " 'cab': 61,\n",
       " 'cellar': 68,\n",
       " 'come': 87,\n",
       " 'edge': 122,\n",
       " 'concentration': 92,\n",
       " 'complexity': 90,\n",
       " 'elegance': 123,\n",
       " 'beautiful': 33,\n",
       " 'delicious': 105,\n",
       " 'skin': 321,\n",
       " 'scents': 311,\n",
       " 'lush': 216,\n",
       " 'age': 9,\n",
       " 'tomato': 366,\n",
       " 'bitter': 41,\n",
       " 'purple': 284,\n",
       " 'raisin': 288,\n",
       " 'power': 275,\n",
       " 'honeysuckle': 184,\n",
       " 'syrah': 347,\n",
       " 'nicely': 239,\n",
       " 'forward': 150,\n",
       " 'acids': 5,\n",
       " 'lively': 211,\n",
       " 'year': 394,\n",
       " 'old': 248,\n",
       " 'smells': 323,\n",
       " 'pure': 283,\n",
       " 'doesn': 112,\n",
       " 'price': 278,\n",
       " 'perfumed': 262,\n",
       " 'tea': 356,\n",
       " 'develop': 110,\n",
       " 'grenache': 172,\n",
       " 'peel': 259,\n",
       " 'aging': 11,\n",
       " 'cool': 93,\n",
       " 'rosé': 303,\n",
       " 'velvety': 375,\n",
       " 'makes': 218,\n",
       " 'fruitiness': 157,\n",
       " 'raspberries': 289,\n",
       " 'despite': 109,\n",
       " 'blue': 48,\n",
       " 'taste': 354,\n",
       " 'flavored': 140,\n",
       " 'lemony': 202,\n",
       " 'aromatic': 23,\n",
       " 'exotic': 129}"
      ]
     },
     "execution_count": 13,
     "metadata": {},
     "output_type": "execute_result"
    }
   ],
   "source": [
    "#Customize stop words after having a first look at the most frequent words\n",
    "customStopWords = text.ENGLISH_STOP_WORDS.union(['wine', '2015','2016', '2017', '2018', '2019', '2020', '100', '10', '20'])\n",
    "\n",
    "CV = CountVectorizer(stop_words=customStopWords, max_features=400)\n",
    "#TO DO : CUSTOMIZE STOP_WORDS\n",
    "\n",
    "X = CV.fit_transform(corpus) #Let's be careful here, X is a sparse Matrix\n",
    "\n",
    "CV.vocabulary_ #This show the 400 most frequent words selected (excluding stop_words)"
   ]
  },
  {
   "cell_type": "markdown",
   "metadata": {},
   "source": [
    "### TFIDF (Term Frequency–Inverse Document Frequency)"
   ]
  },
  {
   "cell_type": "code",
   "execution_count": 14,
   "metadata": {},
   "outputs": [
    {
     "data": {
      "text/plain": [
       "<120975x400 sparse matrix of type '<class 'numpy.float64'>'\n",
       "\twith 1818858 stored elements in Compressed Sparse Row format>"
      ]
     },
     "execution_count": 14,
     "metadata": {},
     "output_type": "execute_result"
    }
   ],
   "source": [
    "TFIDF = TfidfTransformer()\n",
    "X_TFIDF = TFIDF.fit_transform(X)"
   ]
  },
  {
   "cell_type": "markdown",
   "metadata": {},
   "source": [
    "### Truncated SVD: a PCA equivalent for sparse matrices"
   ]
  },
  {
   "cell_type": "code",
   "execution_count": 15,
   "metadata": {},
   "outputs": [
    {
     "data": {
      "text/plain": [
       "0.6907750885053893"
      ]
     },
     "execution_count": 15,
     "metadata": {},
     "output_type": "execute_result"
    }
   ],
   "source": [
    "SVD = TruncatedSVD(n_components = 200) \n",
    "X_SVD = SVD.fit_transform(X_TFIDF)\n",
    "np.sum(SVD.explained_variance_ratio_ )"
   ]
  },
  {
   "cell_type": "markdown",
   "metadata": {},
   "source": [
    "In order to reduce the number of features, we can use Truncated SVD to form linear combination of features minimizing the loss of information. Although here, even if we try to keep 200 features, we would loose more than 30% of the information.\n",
    "\n",
    "It indicates that the words we kept in the CountVectorizer can not be gathered to form more abstract concepts without losing a lot of information. Truncated SVD might not be a good option here, we will try to use classifiers on X_TFIDF. We'll come back to truncated SVD if the calculations are too long."
   ]
  },
  {
   "cell_type": "markdown",
   "metadata": {},
   "source": [
    "### Tpot approach: let's try an automatised approach first"
   ]
  },
  {
   "cell_type": "code",
   "execution_count": null,
   "metadata": {},
   "outputs": [],
   "source": [
    "tpot = TPOTClassifier()"
   ]
  }
 ],
 "metadata": {
  "kernelspec": {
   "display_name": "Python 3",
   "language": "python",
   "name": "python3"
  },
  "language_info": {
   "codemirror_mode": {
    "name": "ipython",
    "version": 3
   },
   "file_extension": ".py",
   "mimetype": "text/x-python",
   "name": "python",
   "nbconvert_exporter": "python",
   "pygments_lexer": "ipython3",
   "version": "3.7.1"
  }
 },
 "nbformat": 4,
 "nbformat_minor": 2
}
